{
 "cells": [
  {
   "cell_type": "markdown",
   "metadata": {},
   "source": [
    "Using spacy English large model:\n",
    "\n",
    "python -m spacy download en_core_web_lg\n"
   ]
  },
  {
   "cell_type": "code",
   "execution_count": 9,
   "metadata": {},
   "outputs": [],
   "source": [
    "import spacy\n",
    "nlp = spacy.load(\"en_core_web_lg\")"
   ]
  },
  {
   "cell_type": "code",
   "execution_count": 10,
   "metadata": {},
   "outputs": [
    {
     "data": {
      "text/plain": [
       "0.8438411951065063"
      ]
     },
     "execution_count": 10,
     "metadata": {},
     "output_type": "execute_result"
    }
   ],
   "source": [
    "w1 = \"red\"\n",
    "w2 = \"blue\"\n",
    "\n",
    "w1 = nlp.vocab[w1]\n",
    "w2 = nlp.vocab[w2]\n",
    "w1.similarity(w2)"
   ]
  },
  {
   "cell_type": "code",
   "execution_count": 11,
   "metadata": {},
   "outputs": [
    {
     "data": {
      "text/plain": [
       "-0.07253860682249069"
      ]
     },
     "execution_count": 11,
     "metadata": {},
     "output_type": "execute_result"
    }
   ],
   "source": [
    "w1 = \"labor\"\n",
    "w2 = \"lorem\"\n",
    "\n",
    "w1 = nlp.vocab[w1]\n",
    "w2 = nlp.vocab[w2]\n",
    "w1.similarity(w2)"
   ]
  },
  {
   "cell_type": "code",
   "execution_count": 12,
   "metadata": {},
   "outputs": [
    {
     "data": {
      "text/plain": [
       "0.5925824642181396"
      ]
     },
     "execution_count": 12,
     "metadata": {},
     "output_type": "execute_result"
    }
   ],
   "source": [
    "w1 = \"the\"\n",
    "w2 = \"a\"\n",
    "\n",
    "w1 = nlp.vocab[w1]\n",
    "w2 = nlp.vocab[w2]\n",
    "w1.similarity(w2)"
   ]
  },
  {
   "cell_type": "code",
   "execution_count": 13,
   "metadata": {},
   "outputs": [
    {
     "data": {
      "text/plain": [
       "0.5152676105499268"
      ]
     },
     "execution_count": 13,
     "metadata": {},
     "output_type": "execute_result"
    }
   ],
   "source": [
    "w1 = \".\"\n",
    "w2 = \"?\"\n",
    "\n",
    "w1 = nlp.vocab[w1]\n",
    "w2 = nlp.vocab[w2]\n",
    "w1.similarity(w2)"
   ]
  },
  {
   "cell_type": "code",
   "execution_count": 14,
   "metadata": {},
   "outputs": [
    {
     "data": {
      "text/plain": [
       "0.010776557959616184"
      ]
     },
     "execution_count": 14,
     "metadata": {},
     "output_type": "execute_result"
    }
   ],
   "source": [
    "s1 = \"packages,[3][\"\n",
    "s2 = \"parcel\"\n",
    "\n",
    "s1 = nlp(s1)\n",
    "s2 = nlp(s2)\n",
    "s1.similarity(s2)"
   ]
  },
  {
   "cell_type": "code",
   "execution_count": 15,
   "metadata": {},
   "outputs": [
    {
     "data": {
      "text/plain": [
       "0.3366757333278656"
      ]
     },
     "execution_count": 15,
     "metadata": {},
     "output_type": "execute_result"
    }
   ],
   "source": [
    "s1 = \"Sigmund Freud\"\n",
    "s2 = \"Psychology\"\n",
    "\n",
    "s1 = nlp(s1)\n",
    "s2 = nlp(s2)\n",
    "s1.similarity(s2)"
   ]
  },
  {
   "cell_type": "code",
   "execution_count": 121,
   "metadata": {},
   "outputs": [
    {
     "data": {
      "text/plain": [
       "0.3752337098121643"
      ]
     },
     "execution_count": 121,
     "metadata": {},
     "output_type": "execute_result"
    }
   ],
   "source": [
    "s1 = \"Lorem ipsum\"\n",
    "s2 = \"Placeholder\"\n",
    "\n",
    "s1 = nlp(s1)\n",
    "s2 = nlp(s2)\n",
    "s1.similarity(s2)"
   ]
  },
  {
   "cell_type": "markdown",
   "metadata": {},
   "source": [
    "Some words are too different. If all things are negative in evaluation, we will use text similarity instead with rapidfuzz library:\n",
    "\n",
    "pip install rapidfuzz\n",
    "\n"
   ]
  },
  {
   "cell_type": "code",
   "execution_count": 17,
   "metadata": {},
   "outputs": [],
   "source": [
    "from rapidfuzz import fuzz"
   ]
  },
  {
   "cell_type": "code",
   "execution_count": 18,
   "metadata": {},
   "outputs": [
    {
     "name": "stdout",
     "output_type": "stream",
     "text": [
      "0.6\n"
     ]
    }
   ],
   "source": [
    "w1 = \"labor\"\n",
    "w2 = \"lorem\"\n",
    "\n",
    "print(fuzz.ratio(w1, w2) / 100)"
   ]
  },
  {
   "cell_type": "code",
   "execution_count": 19,
   "metadata": {},
   "outputs": [
    {
     "name": "stdout",
     "output_type": "stream",
     "text": [
      "0.08695652173913049\n"
     ]
    }
   ],
   "source": [
    "w1 = \"Sigmund Freud\"\n",
    "w2 = \"Psychology\"\n",
    "\n",
    "print(fuzz.ratio(w1, w2) / 100)"
   ]
  },
  {
   "cell_type": "markdown",
   "metadata": {},
   "source": [
    "## Designing a scrambling and unscrambling procedure"
   ]
  },
  {
   "cell_type": "code",
   "execution_count": 20,
   "metadata": {},
   "outputs": [],
   "source": [
    "maintext = '''\n",
    "Lorem ipsum (/ˌlɔː.rəm ˈɪp.səm/ LOR-əm IP-səm) is a dummy or placeholder text commonly used in graphic design, publishing, and web development. Its purpose is to permit a page layout to be designed, independently of the copy that will subsequently populate it, or to demonstrate various fonts of a typeface without meaningful text that could be distracting. \\n\n",
    "\n",
    "Lorem ipsum is typically a corrupted version of De finibus bonorum et malorum, a 1st-century BC text by the Roman statesman and philosopher Cicero, with words altered, added, and removed to make it nonsensical and improper Latin. The first two words themselves are a truncation of dolorem ipsum (\"pain itself\"). \\n\n",
    "\n",
    "Versions of the Lorem ipsum text have been used in typesetting at least since the 1960s, when it was popularized by advertisements for Letraset transfer sheets.[1] Lorem ipsum was introduced to the digital world in the mid-1980s, when Aldus employed it in graphic and word-processing templates for its desktop publishing program PageMaker. Other popular word processors, including Pages and Microsoft Word, have since adopted Lorem ipsum,[2] as have many LaTeX packages,[3][4][5] web content managers such as Joomla! and WordPress, and CSS libraries such as Semantic UI.\n",
    "'''\n",
    "\n",
    "header = '''\n",
    "A common form of Lorem ipsum reads:\n",
    "'''\n",
    "\n",
    "headertext = '''\n",
    "Lorem ipsum dolor sit amet, consectetur adipiscing elit, sed do eiusmod tempor incididunt ut labore et dolore magna aliqua. Ut enim ad minim veniam, quis nostrud exercitation ullamco laboris nisi ut aliquip ex ea commodo consequat. Duis aute irure dolor in reprehenderit in voluptate velit esse cillum dolore eu fugiat nulla pariatur. Excepteur sint occaecat cupidatat non proident, sunt in culpa qui officia deserunt mollit anim id est laborum.\n",
    "'''\n",
    "\n",
    "captions = [\"Using Lorem ipsum to focus attention on graphic elements in a webpage design proposal\"]"
   ]
  },
  {
   "cell_type": "code",
   "execution_count": 21,
   "metadata": {},
   "outputs": [
    {
     "name": "stdout",
     "output_type": "stream",
     "text": [
      "Words: ['\\n', 'Lorem', 'ipsum', '(', '/ˌlɔː.rəm', 'ˈɪp.səm/', 'LOR', '-', 'əm', 'IP', '-', 'səm', ')', 'is', 'a', 'dummy', 'or', 'placeholder', 'text', 'commonly', 'used', 'in', 'graphic', 'design', ',', 'publishing', ',', 'and', 'web', 'development', '.', 'Its', 'purpose', 'is', 'to', 'permit', 'a', 'page', 'layout', 'to', 'be', 'designed', ',', 'independently', 'of', 'the', 'copy', 'that', 'will', 'subsequently', 'populate', 'it', ',', 'or', 'to', 'demonstrate', 'various', 'fonts', 'of', 'a', 'typeface', 'without', 'meaningful', 'text', 'that', 'could', 'be', 'distracting', '.', '\\n\\n\\n    ', 'Lorem', 'ipsum', 'is', 'typically', 'a', 'corrupted', 'version', 'of', 'De', 'finibus', 'bonorum', 'et', 'malorum', ',', 'a', '1st', '-', 'century', 'BC', 'text', 'by', 'the', 'Roman', 'statesman', 'and', 'philosopher', 'Cicero', ',', 'with', 'words', 'altered', ',', 'added', ',', 'and', 'removed', 'to', 'make', 'it', 'nonsensical', 'and', 'improper', 'Latin', '.', 'The', 'first', 'two', 'words', 'themselves', 'are', 'a', 'truncation', 'of', 'dolorem', 'ipsum', '(', '\"', 'pain', 'itself', '\"', ')', '.', '\\n\\n\\n    ', 'Versions', 'of', 'the', 'Lorem', 'ipsum', 'text', 'have', 'been', 'used', 'in', 'typesetting', 'at', 'least', 'since', 'the', '1960s', ',', 'when', 'it', 'was', 'popularized', 'by', 'advertisements', 'for', 'Letraset', 'transfer', 'sheets.[1', ']', 'Lorem', 'ipsum', 'was', 'introduced', 'to', 'the', 'digital', 'world', 'in', 'the', 'mid-1980s', ',', 'when', 'Aldus', 'employed', 'it', 'in', 'graphic', 'and', 'word', '-', 'processing', 'templates', 'for', 'its', 'desktop', 'publishing', 'program', 'PageMaker', '.', 'Other', 'popular', 'word', 'processors', ',', 'including', 'Pages', 'and', 'Microsoft', 'Word', ',', 'have', 'since', 'adopted', 'Lorem', 'ipsum,[2', ']', 'as', 'have', 'many', 'LaTeX', 'packages,[3][4][5', ']', 'web', 'content', 'managers', 'such', 'as', 'Joomla', '!', 'and', 'WordPress', ',', 'and', 'CSS', 'libraries', 'such', 'as', 'Semantic', 'UI', '.', '\\n']\n",
      "Lemmas: ['\\n', 'Lorem', 'ipsum', '(', '/ˌlɔː.rəm', 'ˈɪp.səm/', 'LOR', '-', 'əm', 'IP', '-', 'səm', ')', 'be', 'a', 'dummy', 'or', 'placeholder', 'text', 'commonly', 'use', 'in', 'graphic', 'design', ',', 'publishing', ',', 'and', 'web', 'development', '.', 'its', 'purpose', 'be', 'to', 'permit', 'a', 'page', 'layout', 'to', 'be', 'design', ',', 'independently', 'of', 'the', 'copy', 'that', 'will', 'subsequently', 'populate', 'it', ',', 'or', 'to', 'demonstrate', 'various', 'font', 'of', 'a', 'typeface', 'without', 'meaningful', 'text', 'that', 'could', 'be', 'distract', '.', '\\n\\n\\n    ', 'Lorem', 'ipsum', 'be', 'typically', 'a', 'corrupted', 'version', 'of', 'De', 'finibus', 'bonorum', 'et', 'malorum', ',', 'a', '1st', '-', 'century', 'BC', 'text', 'by', 'the', 'roman', 'statesman', 'and', 'philosopher', 'Cicero', ',', 'with', 'word', 'alter', ',', 'add', ',', 'and', 'remove', 'to', 'make', 'it', 'nonsensical', 'and', 'improper', 'Latin', '.', 'the', 'first', 'two', 'word', 'themselves', 'be', 'a', 'truncation', 'of', 'dolorem', 'ipsum', '(', '\"', 'pain', 'itself', '\"', ')', '.', '\\n\\n\\n    ', 'version', 'of', 'the', 'Lorem', 'ipsum', 'text', 'have', 'be', 'use', 'in', 'typeset', 'at', 'least', 'since', 'the', '1960', ',', 'when', 'it', 'be', 'popularize', 'by', 'advertisement', 'for', 'Letraset', 'transfer', 'sheets.[1', ']', 'Lorem', 'ipsum', 'be', 'introduce', 'to', 'the', 'digital', 'world', 'in', 'the', 'mid-1980', ',', 'when', 'Aldus', 'employ', 'it', 'in', 'graphic', 'and', 'word', '-', 'processing', 'template', 'for', 'its', 'desktop', 'publishing', 'program', 'PageMaker', '.', 'other', 'popular', 'word', 'processor', ',', 'include', 'Pages', 'and', 'Microsoft', 'Word', ',', 'have', 'since', 'adopt', 'Lorem', 'ipsum,[2', ']', 'as', 'have', 'many', 'latex', 'packages,[3][4][5', ']', 'web', 'content', 'manager', 'such', 'as', 'Joomla', '!', 'and', 'WordPress', ',', 'and', 'css', 'library', 'such', 'as', 'Semantic', 'UI', '.', '\\n']\n",
      "Tags: ['SPACE', 'PROPN', 'NOUN', 'PUNCT', 'PUNCT', 'DET', 'PROPN', 'PUNCT', 'PROPN', 'PROPN', 'PUNCT', 'NOUN', 'PUNCT', 'AUX', 'DET', 'ADJ', 'CCONJ', 'NOUN', 'NOUN', 'ADV', 'VERB', 'ADP', 'ADJ', 'NOUN', 'PUNCT', 'NOUN', 'PUNCT', 'CCONJ', 'NOUN', 'NOUN', 'PUNCT', 'PRON', 'NOUN', 'AUX', 'PART', 'VERB', 'DET', 'NOUN', 'NOUN', 'PART', 'AUX', 'VERB', 'PUNCT', 'ADV', 'ADP', 'DET', 'NOUN', 'PRON', 'AUX', 'ADV', 'VERB', 'PRON', 'PUNCT', 'CCONJ', 'PART', 'VERB', 'ADJ', 'NOUN', 'ADP', 'DET', 'NOUN', 'ADP', 'ADJ', 'NOUN', 'PRON', 'AUX', 'AUX', 'VERB', 'PUNCT', 'SPACE', 'PROPN', 'NOUN', 'AUX', 'ADV', 'DET', 'ADJ', 'NOUN', 'ADP', 'PROPN', 'PROPN', 'PROPN', 'PROPN', 'PROPN', 'PUNCT', 'DET', 'ADJ', 'PUNCT', 'NOUN', 'PROPN', 'NOUN', 'ADP', 'DET', 'ADJ', 'NOUN', 'CCONJ', 'NOUN', 'PROPN', 'PUNCT', 'SCONJ', 'NOUN', 'VERB', 'PUNCT', 'VERB', 'PUNCT', 'CCONJ', 'VERB', 'PART', 'VERB', 'PRON', 'ADJ', 'CCONJ', 'ADJ', 'PROPN', 'PUNCT', 'DET', 'ADJ', 'NUM', 'NOUN', 'PRON', 'AUX', 'DET', 'NOUN', 'ADP', 'VERB', 'NOUN', 'PUNCT', 'PUNCT', 'NOUN', 'PRON', 'PUNCT', 'PUNCT', 'PUNCT', 'SPACE', 'NOUN', 'ADP', 'DET', 'PROPN', 'NOUN', 'NOUN', 'AUX', 'AUX', 'VERB', 'ADP', 'VERB', 'ADP', 'ADJ', 'SCONJ', 'DET', 'NOUN', 'PUNCT', 'SCONJ', 'PRON', 'AUX', 'VERB', 'ADP', 'NOUN', 'ADP', 'PROPN', 'NOUN', 'NOUN', 'X', 'PROPN', 'NOUN', 'AUX', 'VERB', 'ADP', 'DET', 'ADJ', 'NOUN', 'ADP', 'DET', 'NOUN', 'PUNCT', 'SCONJ', 'PROPN', 'VERB', 'PRON', 'ADP', 'ADJ', 'CCONJ', 'NOUN', 'PUNCT', 'NOUN', 'NOUN', 'ADP', 'PRON', 'NOUN', 'NOUN', 'NOUN', 'PROPN', 'PUNCT', 'ADJ', 'ADJ', 'NOUN', 'NOUN', 'PUNCT', 'VERB', 'PROPN', 'CCONJ', 'PROPN', 'PROPN', 'PUNCT', 'AUX', 'SCONJ', 'VERB', 'PROPN', 'NUM', 'PUNCT', 'SCONJ', 'VERB', 'ADJ', 'NOUN', 'PROPN', 'PUNCT', 'NOUN', 'NOUN', 'NOUN', 'ADJ', 'ADP', 'PROPN', 'PUNCT', 'CCONJ', 'PROPN', 'PUNCT', 'CCONJ', 'NOUN', 'NOUN', 'ADJ', 'ADP', 'PROPN', 'PROPN', 'PUNCT', 'SPACE']\n"
     ]
    }
   ],
   "source": [
    "# TOKENIZATION: breaking down text into individual words\n",
    "# Process the text using spaCy\n",
    "doc = nlp(maintext)\n",
    "\n",
    "# Extract words (tokens)\n",
    "words = [token.text for token in doc]\n",
    "\n",
    "# Extract lemmas\n",
    "lemmas = [token.lemma_ for token in doc]\n",
    "\n",
    "# Extract part-of-speech tags: https://stackoverflow.com/questions/40288323/what-do-spacys-part-of-speech-and-dependency-tags-mean\n",
    "tags = [token.pos_ for token in doc]\n",
    "\n",
    "# Print the results\n",
    "print(\"Words:\", words)\n",
    "print(\"Lemmas:\", lemmas)\n",
    "print(\"Tags:\", tags)"
   ]
  },
  {
   "cell_type": "code",
   "execution_count": 22,
   "metadata": {},
   "outputs": [
    {
     "name": "stdout",
     "output_type": "stream",
     "text": [
      "\n",
      " | \n",
      " | SPACE\n",
      "Lorem | Lorem | PROPN\n",
      "ipsum | ipsum | NOUN\n",
      "( | ( | PUNCT\n",
      "/ˌlɔː.rəm | /ˌlɔː.rəm | PUNCT\n",
      "ˈɪp.səm/ | ˈɪp.səm/ | DET\n",
      "LOR | LOR | PROPN\n",
      "- | - | PUNCT\n",
      "əm | əm | PROPN\n",
      "IP | IP | PROPN\n",
      "- | - | PUNCT\n",
      "səm | səm | NOUN\n",
      ") | ) | PUNCT\n",
      "is | be | AUX\n",
      "a | a | DET\n",
      "dummy | dummy | ADJ\n",
      "or | or | CCONJ\n",
      "placeholder | placeholder | NOUN\n",
      "text | text | NOUN\n",
      "commonly | commonly | ADV\n",
      "used | use | VERB\n",
      "in | in | ADP\n",
      "graphic | graphic | ADJ\n",
      "design | design | NOUN\n",
      ", | , | PUNCT\n",
      "publishing | publishing | NOUN\n",
      ", | , | PUNCT\n",
      "and | and | CCONJ\n",
      "web | web | NOUN\n",
      "development | development | NOUN\n",
      ". | . | PUNCT\n",
      "Its | its | PRON\n",
      "purpose | purpose | NOUN\n",
      "is | be | AUX\n",
      "to | to | PART\n",
      "permit | permit | VERB\n",
      "a | a | DET\n",
      "page | page | NOUN\n",
      "layout | layout | NOUN\n",
      "to | to | PART\n",
      "be | be | AUX\n",
      "designed | design | VERB\n",
      ", | , | PUNCT\n",
      "independently | independently | ADV\n",
      "of | of | ADP\n",
      "the | the | DET\n",
      "copy | copy | NOUN\n",
      "that | that | PRON\n",
      "will | will | AUX\n",
      "subsequently | subsequently | ADV\n",
      "populate | populate | VERB\n",
      "it | it | PRON\n",
      ", | , | PUNCT\n",
      "or | or | CCONJ\n",
      "to | to | PART\n",
      "demonstrate | demonstrate | VERB\n",
      "various | various | ADJ\n",
      "fonts | font | NOUN\n",
      "of | of | ADP\n",
      "a | a | DET\n",
      "typeface | typeface | NOUN\n",
      "without | without | ADP\n",
      "meaningful | meaningful | ADJ\n",
      "text | text | NOUN\n",
      "that | that | PRON\n",
      "could | could | AUX\n",
      "be | be | AUX\n",
      "distracting | distract | VERB\n",
      ". | . | PUNCT\n",
      "\n",
      "\n",
      "\n",
      "     | \n",
      "\n",
      "\n",
      "     | SPACE\n",
      "Lorem | Lorem | PROPN\n",
      "ipsum | ipsum | NOUN\n",
      "is | be | AUX\n",
      "typically | typically | ADV\n",
      "a | a | DET\n",
      "corrupted | corrupted | ADJ\n",
      "version | version | NOUN\n",
      "of | of | ADP\n",
      "De | De | PROPN\n",
      "finibus | finibus | PROPN\n",
      "bonorum | bonorum | PROPN\n",
      "et | et | PROPN\n",
      "malorum | malorum | PROPN\n",
      ", | , | PUNCT\n",
      "a | a | DET\n",
      "1st | 1st | ADJ\n",
      "- | - | PUNCT\n",
      "century | century | NOUN\n",
      "BC | BC | PROPN\n",
      "text | text | NOUN\n",
      "by | by | ADP\n",
      "the | the | DET\n",
      "Roman | roman | ADJ\n",
      "statesman | statesman | NOUN\n",
      "and | and | CCONJ\n",
      "philosopher | philosopher | NOUN\n",
      "Cicero | Cicero | PROPN\n",
      ", | , | PUNCT\n",
      "with | with | SCONJ\n",
      "words | word | NOUN\n",
      "altered | alter | VERB\n",
      ", | , | PUNCT\n",
      "added | add | VERB\n",
      ", | , | PUNCT\n",
      "and | and | CCONJ\n",
      "removed | remove | VERB\n",
      "to | to | PART\n",
      "make | make | VERB\n",
      "it | it | PRON\n",
      "nonsensical | nonsensical | ADJ\n",
      "and | and | CCONJ\n",
      "improper | improper | ADJ\n",
      "Latin | Latin | PROPN\n",
      ". | . | PUNCT\n",
      "The | the | DET\n",
      "first | first | ADJ\n",
      "two | two | NUM\n",
      "words | word | NOUN\n",
      "themselves | themselves | PRON\n",
      "are | be | AUX\n",
      "a | a | DET\n",
      "truncation | truncation | NOUN\n",
      "of | of | ADP\n",
      "dolorem | dolorem | VERB\n",
      "ipsum | ipsum | NOUN\n",
      "( | ( | PUNCT\n",
      "\" | \" | PUNCT\n",
      "pain | pain | NOUN\n",
      "itself | itself | PRON\n",
      "\" | \" | PUNCT\n",
      ") | ) | PUNCT\n",
      ". | . | PUNCT\n",
      "\n",
      "\n",
      "\n",
      "     | \n",
      "\n",
      "\n",
      "     | SPACE\n",
      "Versions | version | NOUN\n",
      "of | of | ADP\n",
      "the | the | DET\n",
      "Lorem | Lorem | PROPN\n",
      "ipsum | ipsum | NOUN\n",
      "text | text | NOUN\n",
      "have | have | AUX\n",
      "been | be | AUX\n",
      "used | use | VERB\n",
      "in | in | ADP\n",
      "typesetting | typeset | VERB\n",
      "at | at | ADP\n",
      "least | least | ADJ\n",
      "since | since | SCONJ\n",
      "the | the | DET\n",
      "1960s | 1960 | NOUN\n",
      ", | , | PUNCT\n",
      "when | when | SCONJ\n",
      "it | it | PRON\n",
      "was | be | AUX\n",
      "popularized | popularize | VERB\n",
      "by | by | ADP\n",
      "advertisements | advertisement | NOUN\n",
      "for | for | ADP\n",
      "Letraset | Letraset | PROPN\n",
      "transfer | transfer | NOUN\n",
      "sheets.[1 | sheets.[1 | NOUN\n",
      "] | ] | X\n",
      "Lorem | Lorem | PROPN\n",
      "ipsum | ipsum | NOUN\n",
      "was | be | AUX\n",
      "introduced | introduce | VERB\n",
      "to | to | ADP\n",
      "the | the | DET\n",
      "digital | digital | ADJ\n",
      "world | world | NOUN\n",
      "in | in | ADP\n",
      "the | the | DET\n",
      "mid-1980s | mid-1980 | NOUN\n",
      ", | , | PUNCT\n",
      "when | when | SCONJ\n",
      "Aldus | Aldus | PROPN\n",
      "employed | employ | VERB\n",
      "it | it | PRON\n",
      "in | in | ADP\n",
      "graphic | graphic | ADJ\n",
      "and | and | CCONJ\n",
      "word | word | NOUN\n",
      "- | - | PUNCT\n",
      "processing | processing | NOUN\n",
      "templates | template | NOUN\n",
      "for | for | ADP\n",
      "its | its | PRON\n",
      "desktop | desktop | NOUN\n",
      "publishing | publishing | NOUN\n",
      "program | program | NOUN\n",
      "PageMaker | PageMaker | PROPN\n",
      ". | . | PUNCT\n",
      "Other | other | ADJ\n",
      "popular | popular | ADJ\n",
      "word | word | NOUN\n",
      "processors | processor | NOUN\n",
      ", | , | PUNCT\n",
      "including | include | VERB\n",
      "Pages | Pages | PROPN\n",
      "and | and | CCONJ\n",
      "Microsoft | Microsoft | PROPN\n",
      "Word | Word | PROPN\n",
      ", | , | PUNCT\n",
      "have | have | AUX\n",
      "since | since | SCONJ\n",
      "adopted | adopt | VERB\n",
      "Lorem | Lorem | PROPN\n",
      "ipsum,[2 | ipsum,[2 | NUM\n",
      "] | ] | PUNCT\n",
      "as | as | SCONJ\n",
      "have | have | VERB\n",
      "many | many | ADJ\n",
      "LaTeX | latex | NOUN\n",
      "packages,[3][4][5 | packages,[3][4][5 | PROPN\n",
      "] | ] | PUNCT\n",
      "web | web | NOUN\n",
      "content | content | NOUN\n",
      "managers | manager | NOUN\n",
      "such | such | ADJ\n",
      "as | as | ADP\n",
      "Joomla | Joomla | PROPN\n",
      "! | ! | PUNCT\n",
      "and | and | CCONJ\n",
      "WordPress | WordPress | PROPN\n",
      ", | , | PUNCT\n",
      "and | and | CCONJ\n",
      "CSS | css | NOUN\n",
      "libraries | library | NOUN\n",
      "such | such | ADJ\n",
      "as | as | ADP\n",
      "Semantic | Semantic | PROPN\n",
      "UI | UI | PROPN\n",
      ". | . | PUNCT\n",
      "\n",
      " | \n",
      " | SPACE\n"
     ]
    }
   ],
   "source": [
    "for token in doc:\n",
    "    print(token.text + \" | \" + token.lemma_ + \" | \" + token.pos_)"
   ]
  },
  {
   "cell_type": "code",
   "execution_count": 23,
   "metadata": {},
   "outputs": [
    {
     "name": "stdout",
     "output_type": "stream",
     "text": [
      "\n",
      " Lorem ipsum(/ˌlɔː.rəm ˈɪp.səm/ LOR- əm IP- səm) is a dummy or placeholder text commonly used in graphic design, publishing, and web development. Its purpose is to permit a page layout to be designed, independently of the copy that will subsequently populate it, or to demonstrate various fonts of a typeface without meaningful text that could be distracting.\n",
      "\n",
      "\n",
      "     Lorem ipsum is typically a corrupted version of De finibus bonorum et malorum, a 1st- century BC text by the Roman statesman and philosopher Cicero, with words altered, added, and removed to make it nonsensical and improper Latin. The first two words themselves are a truncation of dolorem ipsum(\" pain itself\").\n",
      "\n",
      "\n",
      "     Versions of the Lorem ipsum text have been used in typesetting at least since the 1960s, when it was popularized by advertisements for Letraset transfer sheets.[1 ] Lorem ipsum was introduced to the digital world in the mid-1980s, when Aldus employed it in graphic and word- processing templates for its desktop publishing program PageMaker. Other popular word processors, including Pages and Microsoft Word, have since adopted Lorem ipsum,[2] as have many LaTeX packages,[3][4][5] web content managers such as Joomla! and WordPress, and CSS libraries such as Semantic UI.\n",
      "\n"
     ]
    }
   ],
   "source": [
    "# Convert tokens back into text\n",
    "temp = \"\"\n",
    "\n",
    "for token in doc:\n",
    "    if token.pos_ == \"SPACE\" or token.pos_ == \"PUNCT\":\n",
    "        temp += token.text\n",
    "\n",
    "    else:\n",
    "        temp += \" \" + token.text\n",
    "\n",
    "print(temp)"
   ]
  },
  {
   "cell_type": "markdown",
   "metadata": {},
   "source": [
    "Current Plan:\n",
    "- Take the tokenized version and convert into a dictionary mapping each word to its scrambled version\n",
    "- For each guess the user makes, unscramble the closest words semantically to it (and update the dictionary)\n",
    "- Reconstruct the scrambled text by iterating over the tokens and referencing the dictionary\n",
    "- This dictionary can then represent the user's \"state\" of unscrambling the text\n",
    "- We can also precompute the dictionary of all scrambled text so that all users get the same starting scrambled text\n",
    "\n",
    "Small Details:\n",
    "- We could use the set of all letters that appear in the article as the list of possible random letters for scrambling the text"
   ]
  },
  {
   "cell_type": "code",
   "execution_count": 120,
   "metadata": {},
   "outputs": [
    {
     "data": {
      "text/plain": [
       "{'Lorem': 'Lorem',\n",
       " 'ipsum': 'ipsum',\n",
       " '/ˌlɔː.rəm': '/ˌlɔː.rəm',\n",
       " 'ˈɪp.səm/': 'ˈɪp.səm/',\n",
       " 'LOR': 'LOR',\n",
       " 'əm': 'əm',\n",
       " 'IP': 'IP',\n",
       " 'səm': 'səm',\n",
       " 'is': 'is',\n",
       " 'a': 'a',\n",
       " 'dummy': 'dummy',\n",
       " 'or': 'or',\n",
       " 'placeholder': 'placeholder',\n",
       " 'text': 'text',\n",
       " 'commonly': 'commonly',\n",
       " 'used': 'used',\n",
       " 'in': 'in',\n",
       " 'graphic': 'graphic',\n",
       " 'design': 'design',\n",
       " 'publishing': 'publishing',\n",
       " 'and': 'and',\n",
       " 'web': 'web',\n",
       " 'development': 'development',\n",
       " 'Its': 'Its',\n",
       " 'purpose': 'purpose',\n",
       " 'to': 'to',\n",
       " 'permit': 'permit',\n",
       " 'page': 'page',\n",
       " 'layout': 'layout',\n",
       " 'be': 'be',\n",
       " 'designed': 'designed',\n",
       " 'independently': 'independently',\n",
       " 'of': 'of',\n",
       " 'the': 'the',\n",
       " 'copy': 'copy',\n",
       " 'that': 'that',\n",
       " 'will': 'will',\n",
       " 'subsequently': 'subsequently',\n",
       " 'populate': 'populate',\n",
       " 'it': 'it',\n",
       " 'demonstrate': 'demonstrate',\n",
       " 'various': 'various',\n",
       " 'fonts': 'fonts',\n",
       " 'typeface': 'typeface',\n",
       " 'without': 'without',\n",
       " 'meaningful': 'meaningful',\n",
       " 'could': 'could',\n",
       " 'distracting': 'distracting',\n",
       " 'typically': 'typically',\n",
       " 'corrupted': 'corrupted',\n",
       " 'version': 'version',\n",
       " 'De': 'De',\n",
       " 'finibus': 'finibus',\n",
       " 'bonorum': 'bonorum',\n",
       " 'et': 'et',\n",
       " 'malorum': 'malorum',\n",
       " '1st': '1st',\n",
       " 'century': 'century',\n",
       " 'BC': 'BC',\n",
       " 'by': 'by',\n",
       " 'Roman': 'Roman',\n",
       " 'statesman': 'statesman',\n",
       " 'philosopher': 'philosopher',\n",
       " 'Cicero': 'Cicero',\n",
       " 'with': 'with',\n",
       " 'words': 'words',\n",
       " 'altered': 'altered',\n",
       " 'added': 'added',\n",
       " 'removed': 'removed',\n",
       " 'make': 'make',\n",
       " 'nonsensical': 'nonsensical',\n",
       " 'improper': 'improper',\n",
       " 'Latin': 'Latin',\n",
       " 'The': 'The',\n",
       " 'first': 'first',\n",
       " 'two': 'two',\n",
       " 'themselves': 'themselves',\n",
       " 'are': 'are',\n",
       " 'truncation': 'truncation',\n",
       " 'dolorem': 'dolorem',\n",
       " 'pain': 'pain',\n",
       " 'itself': 'itself',\n",
       " 'Versions': 'Versions',\n",
       " 'have': 'have',\n",
       " 'been': 'been',\n",
       " 'typesetting': 'typesetting',\n",
       " 'at': 'at',\n",
       " 'least': 'least',\n",
       " 'since': 'since',\n",
       " '1960s': '1960s',\n",
       " 'when': 'when',\n",
       " 'was': 'was',\n",
       " 'popularized': 'popularized',\n",
       " 'advertisements': 'advertisements',\n",
       " 'for': 'for',\n",
       " 'Letraset': 'Letraset',\n",
       " 'transfer': 'transfer',\n",
       " 'sheets.[1': 'sheets.[1',\n",
       " ']': ']',\n",
       " 'introduced': 'introduced',\n",
       " 'digital': 'digital',\n",
       " 'world': 'world',\n",
       " 'mid-1980s': 'mid-1980s',\n",
       " 'Aldus': 'Aldus',\n",
       " 'employed': 'employed',\n",
       " 'word': 'word',\n",
       " 'processing': 'processing',\n",
       " 'templates': 'templates',\n",
       " 'its': 'its',\n",
       " 'desktop': 'desktop',\n",
       " 'program': 'program',\n",
       " 'PageMaker': 'PageMaker',\n",
       " 'Other': 'Other',\n",
       " 'popular': 'popular',\n",
       " 'processors': 'processors',\n",
       " 'including': 'including',\n",
       " 'Pages': 'Pages',\n",
       " 'Microsoft': 'Microsoft',\n",
       " 'Word': 'Word',\n",
       " 'adopted': 'adopted',\n",
       " 'ipsum,[2': 'ipsum,[2',\n",
       " 'as': 'as',\n",
       " 'many': 'many',\n",
       " 'LaTeX': 'LaTeX',\n",
       " 'packages,[3][4][5': 'packages,[3][4][5',\n",
       " 'content': 'content',\n",
       " 'managers': 'managers',\n",
       " 'such': 'such',\n",
       " 'Joomla': 'Joomla',\n",
       " 'WordPress': 'WordPress',\n",
       " 'CSS': 'CSS',\n",
       " 'libraries': 'libraries',\n",
       " 'Semantic': 'Semantic',\n",
       " 'UI': 'UI'}"
      ]
     },
     "execution_count": 120,
     "metadata": {},
     "output_type": "execute_result"
    }
   ],
   "source": [
    "game_state = {}\n",
    "punct_thresh = 2\n",
    "\n",
    "for token in doc:\n",
    "    if token.pos_ == \"SPACE\":\n",
    "        pass\n",
    "    \n",
    "    elif token.pos_ == \"PUNCT\":\n",
    "        if len(token.text) > 2:\n",
    "            game_state[token.text]= token.text\n",
    "        \n",
    "\n",
    "    else:\n",
    "        game_state[token.text] = token.text\n",
    "\n",
    "game_state"
   ]
  },
  {
   "cell_type": "code",
   "execution_count": 60,
   "metadata": {},
   "outputs": [
    {
     "data": {
      "text/plain": [
       "['v',\n",
       " 'ə',\n",
       " 'd',\n",
       " 'x',\n",
       " 'r',\n",
       " 'm',\n",
       " 'i',\n",
       " '3',\n",
       " 'ˈ',\n",
       " 'f',\n",
       " 'n',\n",
       " 'J',\n",
       " 'e',\n",
       " '6',\n",
       " 'y',\n",
       " 'T',\n",
       " 'P',\n",
       " 'q',\n",
       " 'B',\n",
       " '1',\n",
       " 'D',\n",
       " '2',\n",
       " 'o',\n",
       " 'k',\n",
       " 'A',\n",
       " 'M',\n",
       " 's',\n",
       " 'p',\n",
       " 'C',\n",
       " 'ː',\n",
       " '9',\n",
       " '8',\n",
       " 'l',\n",
       " 'g',\n",
       " '0',\n",
       " 'O',\n",
       " 'R',\n",
       " 'ɪ',\n",
       " 'S',\n",
       " 't',\n",
       " 'X',\n",
       " '4',\n",
       " 'W',\n",
       " 'E',\n",
       " 'c',\n",
       " 'h',\n",
       " 'ˌ',\n",
       " 'ɔ',\n",
       " 'u',\n",
       " 'a',\n",
       " '5',\n",
       " 'w',\n",
       " '-',\n",
       " 'V',\n",
       " 'I',\n",
       " 'z',\n",
       " 'b',\n",
       " 'L',\n",
       " 'U']"
      ]
     },
     "execution_count": 60,
     "metadata": {},
     "output_type": "execute_result"
    }
   ],
   "source": [
    "letter_bag = set(maintext + header + headertext)\n",
    "letter_exclude = {'\\n', '\\t', '\\\"', '\\'', '.', ',', '(', ')', '[', ']', '{', '}', '\\\\', '/', ' ', '*', '!', '?', ':', ' '}\n",
    "letter_bag = letter_bag.difference(letter_exclude)\n",
    "letter_bag = list(letter_bag)\n",
    "letter_bag"
   ]
  },
  {
   "cell_type": "code",
   "execution_count": 117,
   "metadata": {},
   "outputs": [],
   "source": [
    "import random\n",
    "# INITIAL RANDOMIZED STATE\n",
    "def init_random(game_state: dict, letter_bag: list):\n",
    "    for key in game_state:\n",
    "        temp = \"\"\n",
    "        for i in range(len(key)):\n",
    "            temp += random.choice(letter_bag)\n",
    "        game_state[key] = temp\n",
    "\n",
    "# RENDER GAME STATE AS ARTICLE\n",
    "def render_state(doc: spacy.tokens.doc.Doc, game_state: dict):\n",
    "    text = \"\"\n",
    "\n",
    "    for token in doc:\n",
    "        if (token.pos_ == \"SPACE\" and len(token.pos_) <= 2) or (token.pos_ == \"PUNCT\"):\n",
    "            text += token.text\n",
    "\n",
    "        else:\n",
    "            if token.text in game_state:\n",
    "                text += \" \" + game_state[token.text]\n",
    "            else:\n",
    "                text += \" \" + token.text\n",
    "        \n",
    "\n",
    "    return text\n",
    "\n",
    "# UPDATE A GAME STATE BASED ON GUESS AND RETURN TITLE SIMILARITY\n",
    "def guess_update(game_state: dict, guess: str, title: str):\n",
    "    guess_spacy = nlp(guess)\n",
    "    title_spacy = nlp(title)\n",
    "    title_sim = guess_spacy.similarity(title_spacy)\n",
    "\n",
    "    thresh_full = 0.55 - title_sim*1.2\n",
    "    thresh_partial = 0.40 - title_sim*1.2\n",
    "\n",
    "    print(\"thresh_full: \" + str(thresh_full) + \", thresh_partial: \" + str(thresh_partial))\n",
    "\n",
    "    for key in game_state:\n",
    "        key_spacy = nlp(key)\n",
    "        sim = guess_spacy.similarity(key_spacy)\n",
    "\n",
    "        if sim >= thresh_full:\n",
    "            print(\"Full Unscrambling \" + key)\n",
    "            game_state[key] = key\n",
    "\n",
    "        elif sim >= thresh_partial:\n",
    "            print(\"Partial Unscrambling \" + key)\n",
    "            targets = random.sample(range(len(key)), int(len(key)/2))\n",
    "            for i in targets:\n",
    "                game_state[key] = game_state[key][:i] + key[i] + game_state[key][i+1:]\n",
    "    \n",
    "    return title_sim\n",
    "    \n",
    "\n",
    "        \n",
    "    \n"
   ]
  },
  {
   "cell_type": "code",
   "execution_count": 34,
   "metadata": {},
   "outputs": [
    {
     "data": {
      "text/plain": [
       "{'Lorem': 'Lorem',\n",
       " 'ipsum': 'ipsum',\n",
       " 'ˈɪp.səm/': 'ˈɪp.səm/',\n",
       " 'LOR': 'LOR',\n",
       " 'əm': 'əm',\n",
       " 'IP': 'IP',\n",
       " 'səm': 'səm',\n",
       " 'is': 'is',\n",
       " 'a': 'a',\n",
       " 'dummy': 'dummy',\n",
       " 'or': 'or',\n",
       " 'placeholder': 'placeholder',\n",
       " 'text': 'text',\n",
       " 'commonly': 'commonly',\n",
       " 'used': 'used',\n",
       " 'in': 'in',\n",
       " 'graphic': 'graphic',\n",
       " 'design': 'design',\n",
       " 'publishing': 'publishing',\n",
       " 'and': 'and',\n",
       " 'web': 'web',\n",
       " 'development': 'development',\n",
       " 'Its': 'Its',\n",
       " 'purpose': 'purpose',\n",
       " 'to': 'to',\n",
       " 'permit': 'permit',\n",
       " 'page': 'page',\n",
       " 'layout': 'layout',\n",
       " 'be': 'be',\n",
       " 'designed': 'designed',\n",
       " 'independently': 'independently',\n",
       " 'of': 'of',\n",
       " 'the': 'the',\n",
       " 'copy': 'copy',\n",
       " 'that': 'that',\n",
       " 'will': 'will',\n",
       " 'subsequently': 'subsequently',\n",
       " 'populate': 'populate',\n",
       " 'it': 'it',\n",
       " 'demonstrate': 'demonstrate',\n",
       " 'various': 'various',\n",
       " 'fonts': 'fonts',\n",
       " 'typeface': 'typeface',\n",
       " 'without': 'without',\n",
       " 'meaningful': 'meaningful',\n",
       " 'could': 'could',\n",
       " 'distracting': 'distracting',\n",
       " 'typically': 'typically',\n",
       " 'corrupted': 'corrupted',\n",
       " 'version': 'version',\n",
       " 'De': 'De',\n",
       " 'finibus': 'finibus',\n",
       " 'bonorum': 'bonorum',\n",
       " 'et': 'et',\n",
       " 'malorum': 'malorum',\n",
       " '1st': '1st',\n",
       " 'century': 'century',\n",
       " 'BC': 'BC',\n",
       " 'by': 'by',\n",
       " 'Roman': 'Roman',\n",
       " 'statesman': 'statesman',\n",
       " 'philosopher': 'philosopher',\n",
       " 'Cicero': 'Cicero',\n",
       " 'with': 'with',\n",
       " 'words': 'words',\n",
       " 'altered': 'altered',\n",
       " 'added': 'added',\n",
       " 'removed': 'removed',\n",
       " 'make': 'make',\n",
       " 'nonsensical': 'nonsensical',\n",
       " 'improper': 'improper',\n",
       " 'Latin': 'Latin',\n",
       " 'The': 'The',\n",
       " 'first': 'first',\n",
       " 'two': 'two',\n",
       " 'themselves': 'themselves',\n",
       " 'are': 'are',\n",
       " 'truncation': 'truncation',\n",
       " 'dolorem': 'dolorem',\n",
       " 'pain': 'pain',\n",
       " 'itself': 'itself',\n",
       " 'Versions': 'Versions',\n",
       " 'have': 'have',\n",
       " 'been': 'been',\n",
       " 'typesetting': 'typesetting',\n",
       " 'at': 'at',\n",
       " 'least': 'least',\n",
       " 'since': 'since',\n",
       " '1960s': '1960s',\n",
       " 'when': 'when',\n",
       " 'was': 'was',\n",
       " 'popularized': 'popularized',\n",
       " 'advertisements': 'advertisements',\n",
       " 'for': 'for',\n",
       " 'Letraset': 'Letraset',\n",
       " 'transfer': 'transfer',\n",
       " 'sheets.[1': 'sheets.[1',\n",
       " ']': ']',\n",
       " 'introduced': 'introduced',\n",
       " 'digital': 'digital',\n",
       " 'world': 'world',\n",
       " 'mid-1980s': 'mid-1980s',\n",
       " 'Aldus': 'Aldus',\n",
       " 'employed': 'employed',\n",
       " 'word': 'word',\n",
       " 'processing': 'processing',\n",
       " 'templates': 'templates',\n",
       " 'its': 'its',\n",
       " 'desktop': 'desktop',\n",
       " 'program': 'program',\n",
       " 'PageMaker': 'PageMaker',\n",
       " 'Other': 'Other',\n",
       " 'popular': 'popular',\n",
       " 'processors': 'processors',\n",
       " 'including': 'including',\n",
       " 'Pages': 'Pages',\n",
       " 'Microsoft': 'Microsoft',\n",
       " 'Word': 'Word',\n",
       " 'adopted': 'adopted',\n",
       " 'ipsum,[2': 'ipsum,[2',\n",
       " 'as': 'as',\n",
       " 'many': 'many',\n",
       " 'LaTeX': 'LaTeX',\n",
       " 'packages,[3][4][5': 'packages,[3][4][5',\n",
       " 'content': 'content',\n",
       " 'managers': 'managers',\n",
       " 'such': 'such',\n",
       " 'Joomla': 'Joomla',\n",
       " 'WordPress': 'WordPress',\n",
       " 'CSS': 'CSS',\n",
       " 'libraries': 'libraries',\n",
       " 'Semantic': 'Semantic',\n",
       " 'UI': 'UI'}"
      ]
     },
     "execution_count": 34,
     "metadata": {},
     "output_type": "execute_result"
    }
   ],
   "source": [
    "game_state"
   ]
  },
  {
   "cell_type": "code",
   "execution_count": 62,
   "metadata": {},
   "outputs": [
    {
     "data": {
      "text/plain": [
       "['v',\n",
       " 'ə',\n",
       " 'd',\n",
       " 'x',\n",
       " 'r',\n",
       " 'm',\n",
       " 'i',\n",
       " '3',\n",
       " 'ˈ',\n",
       " 'f',\n",
       " 'n',\n",
       " 'J',\n",
       " 'e',\n",
       " '6',\n",
       " 'y',\n",
       " 'T',\n",
       " 'P',\n",
       " 'q',\n",
       " 'B',\n",
       " '1',\n",
       " 'D',\n",
       " '2',\n",
       " 'o',\n",
       " 'k',\n",
       " 'A',\n",
       " 'M',\n",
       " 's',\n",
       " 'p',\n",
       " 'C',\n",
       " 'ː',\n",
       " '9',\n",
       " '8',\n",
       " 'l',\n",
       " 'g',\n",
       " '0',\n",
       " 'O',\n",
       " 'R',\n",
       " 'ɪ',\n",
       " 'S',\n",
       " 't',\n",
       " 'X',\n",
       " '4',\n",
       " 'W',\n",
       " 'E',\n",
       " 'c',\n",
       " 'h',\n",
       " 'ˌ',\n",
       " 'ɔ',\n",
       " 'u',\n",
       " 'a',\n",
       " '5',\n",
       " 'w',\n",
       " '-',\n",
       " 'V',\n",
       " 'I',\n",
       " 'z',\n",
       " 'b',\n",
       " 'L',\n",
       " 'U']"
      ]
     },
     "execution_count": 62,
     "metadata": {},
     "output_type": "execute_result"
    }
   ],
   "source": [
    "letter_bag"
   ]
  },
  {
   "cell_type": "code",
   "execution_count": 105,
   "metadata": {},
   "outputs": [
    {
     "data": {
      "text/plain": [
       "{'Lorem': 'I5wvX',\n",
       " 'ipsum': 'Rn0yf',\n",
       " 'ˈɪp.səm/': 'l6Ut6zxS',\n",
       " 'LOR': 'hdM',\n",
       " 'əm': 'R8',\n",
       " 'IP': 'L3',\n",
       " 'səm': 'L55',\n",
       " 'is': 'Rq',\n",
       " 'a': 'm',\n",
       " 'dummy': 'IvJRə',\n",
       " 'or': 'l8',\n",
       " 'placeholder': 'tJnl3V50zA2',\n",
       " 'text': 'OPz9',\n",
       " 'commonly': 'pcRviBoo',\n",
       " 'used': '9lTs',\n",
       " 'in': 'nW',\n",
       " 'graphic': 'hSw4-JX',\n",
       " 'design': 'AcVvrU',\n",
       " 'publishing': 'ElxnSrtX3D',\n",
       " 'and': 'hWe',\n",
       " 'web': 'k2B',\n",
       " 'development': 'WAuvAˈ0ːfeu',\n",
       " 'Its': 'Iqˌ',\n",
       " 'purpose': 'ObˌIbr6',\n",
       " 'to': '4D',\n",
       " 'permit': 'k4rW02',\n",
       " 'page': 'lS55',\n",
       " 'layout': 'aVsTːO',\n",
       " 'be': '9E',\n",
       " 'designed': '4xsS9tiM',\n",
       " 'independently': '0OvgbafksAmD-',\n",
       " 'of': 'oP',\n",
       " 'the': 'v8O',\n",
       " 'copy': 'p4yd',\n",
       " 'that': 'w3ˈf',\n",
       " 'will': 'T-Ee',\n",
       " 'subsequently': 'Omg12cCWfhO8',\n",
       " 'populate': 'tvRcUɪWe',\n",
       " 'it': 'A0',\n",
       " 'demonstrate': '58MyWs48AXB',\n",
       " 'various': 'VDhurPM',\n",
       " 'fonts': '0VsmS',\n",
       " 'typeface': 'woəCP61ɔ',\n",
       " 'without': 'qPngˈːV',\n",
       " 'meaningful': 'apJ-tkAɔMS',\n",
       " 'could': 'WWAab',\n",
       " 'distracting': 'W4ɔzetrRDvˈ',\n",
       " 'typically': 'zXn5lakvk',\n",
       " 'corrupted': '9yɪoh8ALq',\n",
       " 'version': 'tIC63hm',\n",
       " 'De': 'ɪi',\n",
       " 'finibus': 'T84gˈuɪ',\n",
       " 'bonorum': 'ˌgMT3b9',\n",
       " 'et': 'əJ',\n",
       " 'malorum': 'wOcWDTS',\n",
       " '1st': 'OAm',\n",
       " 'century': 'T5MP0Lm',\n",
       " 'BC': 'SD',\n",
       " 'by': 'bh',\n",
       " 'Roman': 'psbEf',\n",
       " 'statesman': 'XgyumWoɪg',\n",
       " 'philosopher': 'yJoɪDiX9StV',\n",
       " 'Cicero': 'ti8o4n',\n",
       " 'with': '9MRq',\n",
       " 'words': 'Jv1tc',\n",
       " 'altered': 'h4ə9ˌ9x',\n",
       " 'added': 'z8sEq',\n",
       " 'removed': 'tɔ-isai',\n",
       " 'make': 'cːoe',\n",
       " 'nonsensical': 'ɪAbˈtxˌAːd-',\n",
       " 'improper': 'Tt3zRSoː',\n",
       " 'Latin': '-w3Ub',\n",
       " 'The': 'JuX',\n",
       " 'first': 'niyf4',\n",
       " 'two': 'hTw',\n",
       " 'themselves': '-Byˌ-wms4n',\n",
       " 'are': 'rts',\n",
       " 'truncation': 'Vfsdn8dvM6',\n",
       " 'dolorem': '1ˌCdRg-',\n",
       " 'pain': 'BSUC',\n",
       " 'itself': 'Joc4S8',\n",
       " 'Versions': 'xio6tvrE',\n",
       " 'have': '5Tl3',\n",
       " 'been': 'eSuP',\n",
       " 'typesetting': 'Md352ɪyRtAz',\n",
       " 'at': '9f',\n",
       " 'least': 'duɪEB',\n",
       " 'since': 'khLnˌ',\n",
       " '1960s': '6Tmt0',\n",
       " 'when': 'lAgC',\n",
       " 'was': 'aoA',\n",
       " 'popularized': 'VM69L-ːXtiɪ',\n",
       " 'advertisements': 'BSMBnb8ɪ69JRgV',\n",
       " 'for': '8xE',\n",
       " 'Letraset': 'rT9g5WMy',\n",
       " 'transfer': 'sTːSz5Bg',\n",
       " 'sheets.[1': 'VPyəy91gI',\n",
       " ']': 'm',\n",
       " 'introduced': 'p08əɪpnJg5',\n",
       " 'digital': 'A5RvSTa',\n",
       " 'world': 'ˈ8cx9',\n",
       " 'mid-1980s': '38geupoqˌ',\n",
       " 'Aldus': 'ySUˈR',\n",
       " 'employed': '6Okskh3V',\n",
       " 'word': 'q2AW',\n",
       " 'processing': 'vsːgˌːmhs4',\n",
       " 'templates': '-nɪVwW2R6',\n",
       " 'its': 'vwt',\n",
       " 'desktop': 'lwDaUI-',\n",
       " 'program': 'zMa1uW8',\n",
       " 'PageMaker': 'ɔlət028u5',\n",
       " 'Other': 'prO4d',\n",
       " 'popular': '1xc3fhf',\n",
       " 'processors': 'nO4JLxitn1',\n",
       " 'including': 'ˈ0kfnf1xP',\n",
       " 'Pages': '6eaaA',\n",
       " 'Microsoft': '0slkgOɪCE',\n",
       " 'Word': 'aCːd',\n",
       " 'adopted': 'bːAlaXT',\n",
       " 'ipsum,[2': 'hˈmUy6ˈX',\n",
       " 'as': 'ze',\n",
       " 'many': 'sJ--',\n",
       " 'LaTeX': 'Bfrp3',\n",
       " 'packages,[3][4][5': 'ɔTvJBmRznduRfbyhz',\n",
       " 'content': 'yˈoRmJr',\n",
       " 'managers': 'vqhːJ8oq',\n",
       " 'such': 'WId0',\n",
       " 'Joomla': '9VəmBs',\n",
       " 'WordPress': 'i6r0tɪCb-',\n",
       " 'CSS': 'BPJ',\n",
       " 'libraries': 'ɔEcCMsˌ1p',\n",
       " 'Semantic': 'pSɪdJlfE',\n",
       " 'UI': 'Uː'}"
      ]
     },
     "execution_count": 105,
     "metadata": {},
     "output_type": "execute_result"
    }
   ],
   "source": [
    "init_random(game_state, letter_bag)\n",
    "game_state"
   ]
  },
  {
   "cell_type": "code",
   "execution_count": 106,
   "metadata": {},
   "outputs": [
    {
     "data": {
      "text/plain": [
       "' \\n I5wvX Rn0yf(/ˌlɔː.rəm l6Ut6zxS hdM- R8 L3- L55) Rq m IvJRə l8 tJnl3V50zA2 OPz9 pcRviBoo 9lTs nW hSw4-JX AcVvrU, ElxnSrtX3D, hWe k2B WAuvAˈ0ːfeu. Iqˌ ObˌIbr6 Rq 4D k4rW02 m lS55 aVsTːO 4D 9E 4xsS9tiM, 0OvgbafksAmD- oP v8O p4yd w3ˈf T-Ee Omg12cCWfhO8 tvRcUɪWe A0, l8 4D 58MyWs48AXB VDhurPM 0VsmS oP m woəCP61ɔ qPngˈːV apJ-tkAɔMS OPz9 w3ˈf WWAab 9E W4ɔzetrRDvˈ. \\n\\n\\n     I5wvX Rn0yf Rq zXn5lakvk m 9yɪoh8ALq tIC63hm oP ɪi T84gˈuɪ ˌgMT3b9 əJ wOcWDTS, m OAm- T5MP0Lm SD OPz9 bh v8O psbEf XgyumWoɪg hWe yJoɪDiX9StV ti8o4n, 9MRq Jv1tc h4ə9ˌ9x, z8sEq, hWe tɔ-isai 4D cːoe A0 ɪAbˈtxˌAːd- hWe Tt3zRSoː -w3Ub. JuX niyf4 hTw Jv1tc -Byˌ-wms4n rts m Vfsdn8dvM6 oP 1ˌCdRg- Rn0yf(\" BSUC Joc4S8\"). \\n\\n\\n     xio6tvrE oP v8O I5wvX Rn0yf OPz9 5Tl3 eSuP 9lTs nW Md352ɪyRtAz 9f duɪEB khLnˌ v8O 6Tmt0, lAgC A0 aoA VM69L-ːXtiɪ bh BSMBnb8ɪ69JRgV 8xE rT9g5WMy sTːSz5Bg VPyəy91gI m I5wvX Rn0yf aoA p08əɪpnJg5 4D v8O A5RvSTa ˈ8cx9 nW v8O 38geupoqˌ, lAgC ySUˈR 6Okskh3V A0 nW hSw4-JX hWe q2AW- vsːgˌːmhs4 -nɪVwW2R6 8xE vwt lwDaUI- ElxnSrtX3D zMa1uW8 ɔlət028u5. prO4d 1xc3fhf q2AW nO4JLxitn1, ˈ0kfnf1xP 6eaaA hWe 0slkgOɪCE aCːd, 5Tl3 khLnˌ bːAlaXT I5wvX hˈmUy6ˈX] ze 5Tl3 sJ-- Bfrp3 ɔTvJBmRznduRfbyhz] k2B yˈoRmJr vqhːJ8oq WId0 ze 9VəmBs! hWe i6r0tɪCb-, hWe BPJ ɔEcCMsˌ1p WId0 ze pSɪdJlfE Uː. \\n'"
      ]
     },
     "execution_count": 106,
     "metadata": {},
     "output_type": "execute_result"
    }
   ],
   "source": [
    "render_state(doc, game_state)"
   ]
  },
  {
   "cell_type": "code",
   "execution_count": 109,
   "metadata": {},
   "outputs": [
    {
     "name": "stdout",
     "output_type": "stream",
     "text": [
      "thresh_full: 0.5811834110878408, thresh_partial: 0.3811834110878408\n",
      "Partial Unscrambling IP\n",
      "Partial Unscrambling publishing\n",
      "Full Unscrambling web\n",
      "Partial Unscrambling without\n"
     ]
    },
    {
     "name": "stderr",
     "output_type": "stream",
     "text": [
      "C:\\Users\\super\\AppData\\Local\\Temp\\ipykernel_26784\\126518048.py:40: UserWarning: [W008] Evaluating Doc.similarity based on empty vectors.\n",
      "  sim = guess_spacy.similarity(key_spacy)\n"
     ]
    },
    {
     "name": "stdout",
     "output_type": "stream",
     "text": [
      "Partial Unscrambling advertisements\n",
      "Partial Unscrambling digital\n",
      "Partial Unscrambling world\n",
      "Partial Unscrambling popular\n",
      "Partial Unscrambling Microsoft\n",
      "Partial Unscrambling content\n",
      "Partial Unscrambling WordPress\n"
     ]
    },
    {
     "data": {
      "text/plain": [
       "0.012544392608106136"
      ]
     },
     "execution_count": 109,
     "metadata": {},
     "output_type": "execute_result"
    }
   ],
   "source": [
    "guess_update(game_state, \"internet\", \"Lorem Ipsum\")"
   ]
  },
  {
   "cell_type": "code",
   "execution_count": 110,
   "metadata": {},
   "outputs": [
    {
     "data": {
      "text/plain": [
       "' \\n I5wvX Rn0yf(/ˌlɔː.rəm l6Ut6zxS hdM- R8 IP- L55) Rq m IvJRə l8 tJnl3V50zA2 OPz9 pcRviBoo 9lTs nW hSw4-JX AcVvrU, EublirtX3g, hWe web WAuvAˈ0ːfeu. Iqˌ ObˌIbr6 Rq 4D k4rW02 m lS55 aVsTːO 4D 9E 4xsS9tiM, 0OvgbafksAmD- oP v8O p4yd w3ˈf T-Ee Omg12cCWfhO8 tvRcUɪWe A0, l8 4D 58MyWs48AXB VDhurPM 0VsmS oP m woəCP61ɔ wPngouV apJ-tkAɔMS OPz9 w3ˈf WWAab 9E W4ɔzetrRDvˈ. \\n\\n\\n     I5wvX Rn0yf Rq zXn5lakvk m 9yɪoh8ALq tIC63hm oP ɪi T84gˈuɪ ˌgMT3b9 əJ wOcWDTS, m OAm- T5MP0Lm SD OPz9 bh v8O psbEf XgyumWoɪg hWe yJoɪDiX9StV ti8o4n, 9MRq Jv1tc h4ə9ˌ9x, z8sEq, hWe tɔ-isai 4D cːoe A0 ɪAbˈtxˌAːd- hWe Tt3zRSoː -w3Ub. JuX niyf4 hTw Jv1tc -Byˌ-wms4n rts m Vfsdn8dvM6 oP 1ˌCdRg- Rn0yf(\" BSUC Joc4S8\"). \\n\\n\\n     xio6tvrE oP v8O I5wvX Rn0yf OPz9 5Tl3 eSuP 9lTs nW Md352ɪyRtAz 9f duɪEB khLnˌ v8O 6Tmt0, lAgC A0 aoA VM69L-ːXtiɪ bh advBnt8s6mJngV 8xE rT9g5WMy sTːSz5Bg VPyəy91gI m I5wvX Rn0yf aoA p08əɪpnJg5 4D v8O d5gitTl ˈ8rl9 nW v8O 38geupoqˌ, lAgC ySUˈR 6Okskh3V A0 nW hSw4-JX hWe q2AW- vsːgˌːmhs4 -nɪVwW2R6 8xE vwt lwDaUI- EublirtX3g zMa1uW8 ɔlət028u5. prO4d pxc3lhr q2AW nO4JLxitn1, ˈ0kfnf1xP 6eaaA hWe MilkoOoCt aCːd, 5Tl3 khLnˌ bːAlaXT I5wvX hˈmUy6ˈX] ze 5Tl3 sJ-- Bfrp3 ɔTvJBmRznduRfbyhz] web cˈntmnr vqhːJ8oq WId0 ze 9VəmBs! hWe W6r0trebs, hWe BPJ ɔEcCMsˌ1p WId0 ze pSɪdJlfE Uː. \\n'"
      ]
     },
     "execution_count": 110,
     "metadata": {},
     "output_type": "execute_result"
    }
   ],
   "source": [
    "render_state(doc, game_state)"
   ]
  },
  {
   "cell_type": "code",
   "execution_count": 114,
   "metadata": {},
   "outputs": [
    {
     "name": "stdout",
     "output_type": "stream",
     "text": [
      "thresh_full: 0.260327260196209, thresh_partial: 0.11032726019620898\n",
      "Partial Unscrambling Lorem\n",
      "Partial Unscrambling ipsum\n",
      "Partial Unscrambling IP\n",
      "Partial Unscrambling is\n",
      "Partial Unscrambling a\n",
      "Partial Unscrambling dummy\n",
      "Partial Unscrambling or\n",
      "Partial Unscrambling text\n",
      "Partial Unscrambling commonly\n",
      "Partial Unscrambling used\n",
      "Partial Unscrambling in\n",
      "Partial Unscrambling graphic\n",
      "Partial Unscrambling publishing\n",
      "Partial Unscrambling and\n",
      "Partial Unscrambling web\n",
      "Partial Unscrambling Its\n",
      "Partial Unscrambling layout\n",
      "Partial Unscrambling that\n",
      "Partial Unscrambling populate\n",
      "Partial Unscrambling it\n",
      "Partial Unscrambling various\n",
      "Partial Unscrambling fonts\n",
      "Partial Unscrambling typeface\n",
      "Partial Unscrambling without\n",
      "Partial Unscrambling meaningful\n",
      "Partial Unscrambling could\n",
      "Partial Unscrambling corrupted\n",
      "Partial Unscrambling version\n",
      "Partial Unscrambling De\n",
      "Partial Unscrambling century\n",
      "Partial Unscrambling BC\n",
      "Full Unscrambling Roman\n",
      "Partial Unscrambling philosopher\n",
      "Partial Unscrambling Cicero\n",
      "Partial Unscrambling with\n",
      "Partial Unscrambling words\n",
      "Partial Unscrambling make\n",
      "Partial Unscrambling nonsensical\n"
     ]
    },
    {
     "name": "stderr",
     "output_type": "stream",
     "text": [
      "C:\\Users\\super\\AppData\\Local\\Temp\\ipykernel_26784\\4205951802.py:40: UserWarning: [W008] Evaluating Doc.similarity based on empty vectors.\n",
      "  sim = guess_spacy.similarity(key_spacy)\n"
     ]
    },
    {
     "name": "stdout",
     "output_type": "stream",
     "text": [
      "Full Unscrambling Latin\n",
      "Partial Unscrambling first\n",
      "Partial Unscrambling two\n",
      "Partial Unscrambling themselves\n",
      "Partial Unscrambling are\n",
      "Partial Unscrambling pain\n",
      "Partial Unscrambling Versions\n",
      "Partial Unscrambling have\n",
      "Partial Unscrambling typesetting\n",
      "Partial Unscrambling when\n",
      "Partial Unscrambling popularized\n",
      "Partial Unscrambling digital\n",
      "Partial Unscrambling world\n",
      "Full Unscrambling word\n",
      "Partial Unscrambling templates\n",
      "Partial Unscrambling its\n",
      "Partial Unscrambling Other\n",
      "Partial Unscrambling popular\n",
      "Partial Unscrambling Pages\n",
      "Partial Unscrambling Microsoft\n",
      "Full Unscrambling Word\n",
      "Partial Unscrambling as\n",
      "Partial Unscrambling many\n",
      "Full Unscrambling LaTeX\n",
      "Partial Unscrambling content\n",
      "Partial Unscrambling Joomla\n",
      "Partial Unscrambling WordPress\n",
      "Partial Unscrambling CSS\n"
     ]
    },
    {
     "data": {
      "text/plain": [
       "0.19311515986919403"
      ]
     },
     "execution_count": 114,
     "metadata": {},
     "output_type": "execute_result"
    }
   ],
   "source": [
    "guess_update(game_state, \"Latin\", \"Lorem Ipsum\")"
   ]
  },
  {
   "cell_type": "code",
   "execution_count": 115,
   "metadata": {},
   "outputs": [
    {
     "data": {
      "text/plain": [
       "' \\n LoweX ip0ym(/ˌlɔː.rəm l6Ut6zxS hdM- R8 IP- L55) is m IumRy or tJnl3V50zA2 Oext coRvoBly uled iW gra4-Jc AcVvrU, EublistXng, ane web WAuvAˈ0ːfeu. Itˌ ObˌIbr6 is 4D k4rW02 m lS55 layout 4D 9E 4xsS9tiM, 0OvgbafksAmD- oP v8O p4yd t3ˈt T-Ee Omg12cCWfhO8 populɪte it, or 4D 58MyWs48AXB vDruous fonms oP m topef6ce winhouV aeaningɔMl Oext t3ˈt Wouad 9E W4ɔzetrRDvˈ. \\n\\n\\n     LoweX ip0ym is zXn5lakvk m coɪrupALd vIrsion oP De T84gˈuɪ ˌgMT3b9 əJ wOcWDTS, m OAm- Tent0Ly SC Oext bh v8O Roman XgyumWoɪg ane yJoloiopher Cicoro, wiRh Jvrds h4ə9ˌ9x, z8sEq, ane tɔ-isai 4D cake it nAnsensicd- ane Tt3zRSoː Latin. JuX niyst tww Jvrds -heˌselv4s ats m Vfsdn8dvM6 oP 1ˌCdRg- ip0ym(\" pSiC Joc4S8\"). \\n\\n\\n     ViosionE oP v8O LoweX ip0ym Oext hale eSuP uled iW MdpesettiAg 9f duɪEB khLnˌ v8O 6Tmt0, wAgn it aoA pMpul-rXzed bh advBnt8s6mJngV 8xE rT9g5WMy sTːSz5Bg VPyəy91gI m LoweX ip0ym aoA p08əɪpnJg5 4D v8O digitTl world iW v8O 38geupoqˌ, wAgn ySUˈR 6Okskh3V it iW gra4-Jc ane word- vsːgˌːmhs4 -emVlatR6 8xE vws lwDaUI- EublistXng zMa1uW8 ɔlət028u5. OtOer pop3lar word nO4JLxitn1, ˈ0kfnf1xP 6eges ane MickosoCt Word, hale khLnˌ bːAlaXT LoweX hˈmUy6ˈX] ae hale man- LaTeX ɔTvJBmRznduRfbyhz] web contmnr vqhːJ8oq WId0 ae Joomla! ane W6rdPress, ane CPS ɔEcCMsˌ1p WId0 ae pSɪdJlfE Uː. \\n'"
      ]
     },
     "execution_count": 115,
     "metadata": {},
     "output_type": "execute_result"
    }
   ],
   "source": [
    "render_state(doc, game_state)"
   ]
  },
  {
   "cell_type": "code",
   "execution_count": 119,
   "metadata": {},
   "outputs": [
    {
     "name": "stdout",
     "output_type": "stream",
     "text": [
      "thresh_full: -0.5878515005111693, thresh_partial: -0.7378515005111693\n",
      "Full Unscrambling Lorem\n",
      "Full Unscrambling ipsum\n",
      "Full Unscrambling ˈɪp.səm/\n",
      "Full Unscrambling LOR\n",
      "Full Unscrambling əm\n",
      "Full Unscrambling IP\n",
      "Full Unscrambling səm\n",
      "Full Unscrambling is\n",
      "Full Unscrambling a\n",
      "Full Unscrambling dummy\n",
      "Full Unscrambling or\n",
      "Full Unscrambling placeholder\n",
      "Full Unscrambling text\n",
      "Full Unscrambling commonly\n",
      "Full Unscrambling used\n",
      "Full Unscrambling in\n",
      "Full Unscrambling graphic\n",
      "Full Unscrambling design\n",
      "Full Unscrambling publishing\n",
      "Full Unscrambling and\n",
      "Full Unscrambling web\n",
      "Full Unscrambling development\n",
      "Full Unscrambling Its\n",
      "Full Unscrambling purpose\n",
      "Full Unscrambling to\n",
      "Full Unscrambling permit\n",
      "Full Unscrambling page\n",
      "Full Unscrambling layout\n",
      "Full Unscrambling be\n",
      "Full Unscrambling designed\n",
      "Full Unscrambling independently\n",
      "Full Unscrambling of\n",
      "Full Unscrambling the\n",
      "Full Unscrambling copy\n",
      "Full Unscrambling that\n",
      "Full Unscrambling will\n",
      "Full Unscrambling subsequently\n",
      "Full Unscrambling populate\n",
      "Full Unscrambling it\n",
      "Full Unscrambling demonstrate\n",
      "Full Unscrambling various\n",
      "Full Unscrambling fonts\n",
      "Full Unscrambling typeface\n",
      "Full Unscrambling without\n",
      "Full Unscrambling meaningful\n",
      "Full Unscrambling could\n",
      "Full Unscrambling distracting\n",
      "Full Unscrambling typically\n",
      "Full Unscrambling corrupted\n",
      "Full Unscrambling version\n",
      "Full Unscrambling De\n",
      "Full Unscrambling finibus\n",
      "Full Unscrambling bonorum\n",
      "Full Unscrambling et\n",
      "Full Unscrambling malorum\n",
      "Full Unscrambling 1st\n",
      "Full Unscrambling century\n",
      "Full Unscrambling BC\n",
      "Full Unscrambling by\n",
      "Full Unscrambling Roman\n",
      "Full Unscrambling statesman\n",
      "Full Unscrambling philosopher\n",
      "Full Unscrambling Cicero\n",
      "Full Unscrambling with\n",
      "Full Unscrambling words\n",
      "Full Unscrambling altered\n",
      "Full Unscrambling added\n"
     ]
    },
    {
     "name": "stderr",
     "output_type": "stream",
     "text": [
      "C:\\Users\\super\\AppData\\Local\\Temp\\ipykernel_26784\\2727298828.py:40: UserWarning: [W008] Evaluating Doc.similarity based on empty vectors.\n",
      "  sim = guess_spacy.similarity(key_spacy)\n"
     ]
    },
    {
     "name": "stdout",
     "output_type": "stream",
     "text": [
      "Full Unscrambling removed\n",
      "Full Unscrambling make\n",
      "Full Unscrambling nonsensical\n",
      "Full Unscrambling improper\n",
      "Full Unscrambling Latin\n",
      "Full Unscrambling The\n",
      "Full Unscrambling first\n",
      "Full Unscrambling two\n",
      "Full Unscrambling themselves\n",
      "Full Unscrambling are\n",
      "Full Unscrambling truncation\n",
      "Full Unscrambling dolorem\n",
      "Full Unscrambling pain\n",
      "Full Unscrambling itself\n",
      "Full Unscrambling Versions\n",
      "Full Unscrambling have\n",
      "Full Unscrambling been\n",
      "Full Unscrambling typesetting\n",
      "Full Unscrambling at\n",
      "Full Unscrambling least\n",
      "Full Unscrambling since\n",
      "Full Unscrambling 1960s\n",
      "Full Unscrambling when\n",
      "Full Unscrambling was\n",
      "Full Unscrambling popularized\n",
      "Full Unscrambling advertisements\n",
      "Full Unscrambling for\n",
      "Full Unscrambling Letraset\n",
      "Full Unscrambling transfer\n",
      "Full Unscrambling sheets.[1\n",
      "Full Unscrambling ]\n",
      "Full Unscrambling introduced\n",
      "Full Unscrambling digital\n",
      "Full Unscrambling world\n",
      "Full Unscrambling mid-1980s\n",
      "Full Unscrambling Aldus\n",
      "Full Unscrambling employed\n",
      "Full Unscrambling word\n",
      "Full Unscrambling processing\n",
      "Full Unscrambling templates\n",
      "Full Unscrambling its\n",
      "Full Unscrambling desktop\n",
      "Full Unscrambling program\n",
      "Full Unscrambling PageMaker\n",
      "Full Unscrambling Other\n",
      "Full Unscrambling popular\n",
      "Full Unscrambling processors\n",
      "Full Unscrambling including\n",
      "Full Unscrambling Pages\n",
      "Full Unscrambling Microsoft\n",
      "Full Unscrambling Word\n",
      "Full Unscrambling adopted\n",
      "Full Unscrambling ipsum,[2\n",
      "Full Unscrambling as\n",
      "Full Unscrambling many\n",
      "Full Unscrambling LaTeX\n",
      "Full Unscrambling packages,[3][4][5\n",
      "Full Unscrambling content\n",
      "Full Unscrambling managers\n",
      "Full Unscrambling such\n",
      "Full Unscrambling Joomla\n",
      "Full Unscrambling WordPress\n",
      "Full Unscrambling CSS\n",
      "Full Unscrambling libraries\n",
      "Full Unscrambling Semantic\n",
      "Full Unscrambling UI\n"
     ]
    },
    {
     "data": {
      "text/plain": [
       "0.9482095837593079"
      ]
     },
     "execution_count": 119,
     "metadata": {},
     "output_type": "execute_result"
    }
   ],
   "source": [
    "guess_update(game_state, \"Lorem\", \"Lorem Ipsum\")"
   ]
  },
  {
   "cell_type": "code",
   "execution_count": 118,
   "metadata": {},
   "outputs": [
    {
     "data": {
      "text/plain": [
       "' \\n Lorem ipsum(/ˌlɔː.rəm ˈɪp.səm/ LOR- əm IP- səm) is a dummy or placeholder text commonly used in graphic design, publishing, and web development. Its purpose is to permit a page layout to be designed, independently of the copy that will subsequently populate it, or to demonstrate various fonts of a typeface without meaningful text that could be distracting. \\n\\n\\n     Lorem ipsum is typically a corrupted version of De finibus bonorum et malorum, a 1st- century BC text by the Roman statesman and philosopher Cicero, with words altered, added, and removed to make it nonsensical and improper Latin. The first two words themselves are a truncation of dolorem ipsum(\" pain itself\"). \\n\\n\\n     Versions of the Lorem ipsum text have been used in typesetting at least since the 1960s, when it was popularized by advertisements for Letraset transfer sheets.[1 ] Lorem ipsum was introduced to the digital world in the mid-1980s, when Aldus employed it in graphic and word- processing templates for its desktop publishing program PageMaker. Other popular word processors, including Pages and Microsoft Word, have since adopted Lorem ipsum,[2] as have many LaTeX packages,[3][4][5] web content managers such as Joomla! and WordPress, and CSS libraries such as Semantic UI. \\n'"
      ]
     },
     "execution_count": 118,
     "metadata": {},
     "output_type": "execute_result"
    }
   ],
   "source": [
    "render_state(doc, game_state)"
   ]
  },
  {
   "cell_type": "code",
   "execution_count": null,
   "metadata": {},
   "outputs": [],
   "source": []
  }
 ],
 "metadata": {
  "kernelspec": {
   "display_name": ".venv",
   "language": "python",
   "name": "python3"
  },
  "language_info": {
   "codemirror_mode": {
    "name": "ipython",
    "version": 3
   },
   "file_extension": ".py",
   "mimetype": "text/x-python",
   "name": "python",
   "nbconvert_exporter": "python",
   "pygments_lexer": "ipython3",
   "version": "3.11.9"
  }
 },
 "nbformat": 4,
 "nbformat_minor": 2
}
