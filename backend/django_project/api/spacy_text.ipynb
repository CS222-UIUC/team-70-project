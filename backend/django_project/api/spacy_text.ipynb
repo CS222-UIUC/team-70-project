{
 "cells": [
  {
   "cell_type": "markdown",
   "metadata": {},
   "source": [
    "Using spacy English large model:\n",
    "\n",
    "python -m spacy download en_core_web_lg\n"
   ]
  },
  {
   "cell_type": "code",
   "execution_count": 13,
   "metadata": {},
   "outputs": [],
   "source": [
    "import spacy\n",
    "nlp = spacy.load(\"en_core_web_lg\")"
   ]
  },
  {
   "cell_type": "code",
   "execution_count": 67,
   "metadata": {},
   "outputs": [
    {
     "data": {
      "text/plain": [
       "0.8438411951065063"
      ]
     },
     "execution_count": 67,
     "metadata": {},
     "output_type": "execute_result"
    }
   ],
   "source": [
    "w1 = \"red\"\n",
    "w2 = \"blue\"\n",
    "\n",
    "w1 = nlp.vocab[w1]\n",
    "w2 = nlp.vocab[w2]\n",
    "w1.similarity(w2)"
   ]
  },
  {
   "cell_type": "code",
   "execution_count": 34,
   "metadata": {},
   "outputs": [
    {
     "data": {
      "text/plain": [
       "-0.07253860682249069"
      ]
     },
     "execution_count": 34,
     "metadata": {},
     "output_type": "execute_result"
    }
   ],
   "source": [
    "w1 = \"labor\"\n",
    "w2 = \"lorem\"\n",
    "\n",
    "w1 = nlp.vocab[w1]\n",
    "w2 = nlp.vocab[w2]\n",
    "w1.similarity(w2)"
   ]
  },
  {
   "cell_type": "code",
   "execution_count": 51,
   "metadata": {},
   "outputs": [
    {
     "data": {
      "text/plain": [
       "0.5925824642181396"
      ]
     },
     "execution_count": 51,
     "metadata": {},
     "output_type": "execute_result"
    }
   ],
   "source": [
    "w1 = \"the\"\n",
    "w2 = \"a\"\n",
    "\n",
    "w1 = nlp.vocab[w1]\n",
    "w2 = nlp.vocab[w2]\n",
    "w1.similarity(w2)"
   ]
  },
  {
   "cell_type": "code",
   "execution_count": 68,
   "metadata": {},
   "outputs": [
    {
     "data": {
      "text/plain": [
       "0.5152676105499268"
      ]
     },
     "execution_count": 68,
     "metadata": {},
     "output_type": "execute_result"
    }
   ],
   "source": [
    "w1 = \".\"\n",
    "w2 = \"?\"\n",
    "\n",
    "w1 = nlp.vocab[w1]\n",
    "w2 = nlp.vocab[w2]\n",
    "w1.similarity(w2)"
   ]
  },
  {
   "cell_type": "code",
   "execution_count": 69,
   "metadata": {},
   "outputs": [
    {
     "data": {
      "text/plain": [
       "0.9810225367546082"
      ]
     },
     "execution_count": 69,
     "metadata": {},
     "output_type": "execute_result"
    }
   ],
   "source": [
    "s1 = \"This is a sentence\"\n",
    "s2 = \"This is another sentence\"\n",
    "\n",
    "s1 = nlp(s1)\n",
    "s2 = nlp(s2)\n",
    "s1.similarity(s2)"
   ]
  },
  {
   "cell_type": "code",
   "execution_count": 70,
   "metadata": {},
   "outputs": [
    {
     "data": {
      "text/plain": [
       "0.3366757333278656"
      ]
     },
     "execution_count": 70,
     "metadata": {},
     "output_type": "execute_result"
    }
   ],
   "source": [
    "s1 = \"Sigmund Freud\"\n",
    "s2 = \"Psychology\"\n",
    "\n",
    "s1 = nlp(s1)\n",
    "s2 = nlp(s2)\n",
    "s1.similarity(s2)"
   ]
  },
  {
   "cell_type": "code",
   "execution_count": 50,
   "metadata": {},
   "outputs": [
    {
     "data": {
      "text/plain": [
       "0.3752337098121643"
      ]
     },
     "execution_count": 50,
     "metadata": {},
     "output_type": "execute_result"
    }
   ],
   "source": [
    "s1 = \"Lorem ipsum\"\n",
    "s2 = \"Placeholder\"\n",
    "\n",
    "s1 = nlp(s1)\n",
    "s2 = nlp(s2)\n",
    "s1.similarity(s2)"
   ]
  },
  {
   "cell_type": "markdown",
   "metadata": {},
   "source": [
    "Some words are too different. If all things are negative in evaluation, we will use text similarity instead with rapidfuzz library:\n",
    "\n",
    "pip install rapidfuzz\n",
    "\n"
   ]
  },
  {
   "cell_type": "code",
   "execution_count": 35,
   "metadata": {},
   "outputs": [],
   "source": [
    "from rapidfuzz import fuzz"
   ]
  },
  {
   "cell_type": "code",
   "execution_count": 49,
   "metadata": {},
   "outputs": [
    {
     "name": "stdout",
     "output_type": "stream",
     "text": [
      "0.6\n"
     ]
    }
   ],
   "source": [
    "w1 = \"labor\"\n",
    "w2 = \"lorem\"\n",
    "\n",
    "print(fuzz.ratio(w1, w2) / 100)"
   ]
  },
  {
   "cell_type": "code",
   "execution_count": 59,
   "metadata": {},
   "outputs": [
    {
     "name": "stdout",
     "output_type": "stream",
     "text": [
      "0.08695652173913049\n"
     ]
    }
   ],
   "source": [
    "w1 = \"Sigmund Freud\"\n",
    "w2 = \"Psychology\"\n",
    "\n",
    "print(fuzz.ratio(w1, w2) / 100)"
   ]
  },
  {
   "cell_type": "markdown",
   "metadata": {},
   "source": [
    "## Designing a scrambling and unscrambling procedure"
   ]
  },
  {
   "cell_type": "code",
   "execution_count": 54,
   "metadata": {},
   "outputs": [],
   "source": [
    "maintext = '''\n",
    "Lorem ipsum (/ˌlɔː.rəm ˈɪp.səm/ LOR-əm IP-səm) is a dummy or placeholder text commonly used in graphic design, publishing, and web development. Its purpose is to permit a page layout to be designed, independently of the copy that will subsequently populate it, or to demonstrate various fonts of a typeface without meaningful text that could be distracting. \\n\n",
    "\n",
    "    Lorem ipsum is typically a corrupted version of De finibus bonorum et malorum, a 1st-century BC text by the Roman statesman and philosopher Cicero, with words altered, added, and removed to make it nonsensical and improper Latin. The first two words themselves are a truncation of dolorem ipsum (\"pain itself\"). \\n\n",
    "\n",
    "    Versions of the Lorem ipsum text have been used in typesetting at least since the 1960s, when it was popularized by advertisements for Letraset transfer sheets.[1] Lorem ipsum was introduced to the digital world in the mid-1980s, when Aldus employed it in graphic and word-processing templates for its desktop publishing program PageMaker. Other popular word processors, including Pages and Microsoft Word, have since adopted Lorem ipsum,[2] as have many LaTeX packages,[3][4][5] web content managers such as Joomla! and WordPress, and CSS libraries such as Semantic UI.\n",
    "'''\n",
    "\n",
    "header = '''\n",
    "A common form of Lorem ipsum reads:\n",
    "'''\n",
    "\n",
    "headertext = '''}\n",
    "Lorem ipsum dolor sit amet, consectetur adipiscing elit, sed do eiusmod tempor incididunt ut labore et dolore magna aliqua. Ut enim ad minim veniam, quis nostrud exercitation ullamco laboris nisi ut aliquip ex ea commodo consequat. Duis aute irure dolor in reprehenderit in voluptate velit esse cillum dolore eu fugiat nulla pariatur. Excepteur sint occaecat cupidatat non proident, sunt in culpa qui officia deserunt mollit anim id est laborum.\n",
    "'''\n",
    "\n",
    "captions = [\"Using Lorem ipsum to focus attention on graphic elements in a webpage design proposal\"]"
   ]
  },
  {
   "cell_type": "code",
   "execution_count": null,
   "metadata": {},
   "outputs": [
    {
     "name": "stdout",
     "output_type": "stream",
     "text": [
      "Words: ['\\n', 'Lorem', 'ipsum', '(', '/ˌlɔː.rəm', 'ˈɪp.səm/', 'LOR', '-', 'əm', 'IP', '-', 'səm', ')', 'is', 'a', 'dummy', 'or', 'placeholder', 'text', 'commonly', 'used', 'in', 'graphic', 'design', ',', 'publishing', ',', 'and', 'web', 'development', '.', 'Its', 'purpose', 'is', 'to', 'permit', 'a', 'page', 'layout', 'to', 'be', 'designed', ',', 'independently', 'of', 'the', 'copy', 'that', 'will', 'subsequently', 'populate', 'it', ',', 'or', 'to', 'demonstrate', 'various', 'fonts', 'of', 'a', 'typeface', 'without', 'meaningful', 'text', 'that', 'could', 'be', 'distracting', '.', '\\n\\n\\n    ', 'Lorem', 'ipsum', 'is', 'typically', 'a', 'corrupted', 'version', 'of', 'De', 'finibus', 'bonorum', 'et', 'malorum', ',', 'a', '1st', '-', 'century', 'BC', 'text', 'by', 'the', 'Roman', 'statesman', 'and', 'philosopher', 'Cicero', ',', 'with', 'words', 'altered', ',', 'added', ',', 'and', 'removed', 'to', 'make', 'it', 'nonsensical', 'and', 'improper', 'Latin', '.', 'The', 'first', 'two', 'words', 'themselves', 'are', 'a', 'truncation', 'of', 'dolorem', 'ipsum', '(', '\"', 'pain', 'itself', '\"', ')', '.', '\\n\\n\\n    ', 'Versions', 'of', 'the', 'Lorem', 'ipsum', 'text', 'have', 'been', 'used', 'in', 'typesetting', 'at', 'least', 'since', 'the', '1960s', ',', 'when', 'it', 'was', 'popularized', 'by', 'advertisements', 'for', 'Letraset', 'transfer', 'sheets.[1', ']', 'Lorem', 'ipsum', 'was', 'introduced', 'to', 'the', 'digital', 'world', 'in', 'the', 'mid-1980s', ',', 'when', 'Aldus', 'employed', 'it', 'in', 'graphic', 'and', 'word', '-', 'processing', 'templates', 'for', 'its', 'desktop', 'publishing', 'program', 'PageMaker', '.', 'Other', 'popular', 'word', 'processors', ',', 'including', 'Pages', 'and', 'Microsoft', 'Word', ',', 'have', 'since', 'adopted', 'Lorem', 'ipsum,[2', ']', 'as', 'have', 'many', 'LaTeX', 'packages,[3][4][5', ']', 'web', 'content', 'managers', 'such', 'as', 'Joomla', '!', 'and', 'WordPress', ',', 'and', 'CSS', 'libraries', 'such', 'as', 'Semantic', 'UI', '.', '\\n']\n",
      "Lemmas: ['\\n', 'Lorem', 'ipsum', '(', '/ˌlɔː.rəm', 'ˈɪp.səm/', 'LOR', '-', 'əm', 'IP', '-', 'səm', ')', 'be', 'a', 'dummy', 'or', 'placeholder', 'text', 'commonly', 'use', 'in', 'graphic', 'design', ',', 'publishing', ',', 'and', 'web', 'development', '.', 'its', 'purpose', 'be', 'to', 'permit', 'a', 'page', 'layout', 'to', 'be', 'design', ',', 'independently', 'of', 'the', 'copy', 'that', 'will', 'subsequently', 'populate', 'it', ',', 'or', 'to', 'demonstrate', 'various', 'font', 'of', 'a', 'typeface', 'without', 'meaningful', 'text', 'that', 'could', 'be', 'distract', '.', '\\n\\n\\n    ', 'Lorem', 'ipsum', 'be', 'typically', 'a', 'corrupted', 'version', 'of', 'De', 'finibus', 'bonorum', 'et', 'malorum', ',', 'a', '1st', '-', 'century', 'BC', 'text', 'by', 'the', 'roman', 'statesman', 'and', 'philosopher', 'Cicero', ',', 'with', 'word', 'alter', ',', 'add', ',', 'and', 'remove', 'to', 'make', 'it', 'nonsensical', 'and', 'improper', 'Latin', '.', 'the', 'first', 'two', 'word', 'themselves', 'be', 'a', 'truncation', 'of', 'dolorem', 'ipsum', '(', '\"', 'pain', 'itself', '\"', ')', '.', '\\n\\n\\n    ', 'version', 'of', 'the', 'Lorem', 'ipsum', 'text', 'have', 'be', 'use', 'in', 'typeset', 'at', 'least', 'since', 'the', '1960', ',', 'when', 'it', 'be', 'popularize', 'by', 'advertisement', 'for', 'Letraset', 'transfer', 'sheets.[1', ']', 'Lorem', 'ipsum', 'be', 'introduce', 'to', 'the', 'digital', 'world', 'in', 'the', 'mid-1980', ',', 'when', 'Aldus', 'employ', 'it', 'in', 'graphic', 'and', 'word', '-', 'processing', 'template', 'for', 'its', 'desktop', 'publishing', 'program', 'PageMaker', '.', 'other', 'popular', 'word', 'processor', ',', 'include', 'Pages', 'and', 'Microsoft', 'Word', ',', 'have', 'since', 'adopt', 'Lorem', 'ipsum,[2', ']', 'as', 'have', 'many', 'latex', 'packages,[3][4][5', ']', 'web', 'content', 'manager', 'such', 'as', 'Joomla', '!', 'and', 'WordPress', ',', 'and', 'css', 'library', 'such', 'as', 'Semantic', 'UI', '.', '\\n']\n",
      "Tags: ['SPACE', 'PROPN', 'NOUN', 'PUNCT', 'PUNCT', 'DET', 'PROPN', 'PUNCT', 'PROPN', 'PROPN', 'PUNCT', 'NOUN', 'PUNCT', 'AUX', 'DET', 'ADJ', 'CCONJ', 'NOUN', 'NOUN', 'ADV', 'VERB', 'ADP', 'ADJ', 'NOUN', 'PUNCT', 'NOUN', 'PUNCT', 'CCONJ', 'NOUN', 'NOUN', 'PUNCT', 'PRON', 'NOUN', 'AUX', 'PART', 'VERB', 'DET', 'NOUN', 'NOUN', 'PART', 'AUX', 'VERB', 'PUNCT', 'ADV', 'ADP', 'DET', 'NOUN', 'PRON', 'AUX', 'ADV', 'VERB', 'PRON', 'PUNCT', 'CCONJ', 'PART', 'VERB', 'ADJ', 'NOUN', 'ADP', 'DET', 'NOUN', 'ADP', 'ADJ', 'NOUN', 'PRON', 'AUX', 'AUX', 'VERB', 'PUNCT', 'SPACE', 'PROPN', 'NOUN', 'AUX', 'ADV', 'DET', 'ADJ', 'NOUN', 'ADP', 'PROPN', 'PROPN', 'PROPN', 'PROPN', 'PROPN', 'PUNCT', 'DET', 'ADJ', 'PUNCT', 'NOUN', 'PROPN', 'NOUN', 'ADP', 'DET', 'ADJ', 'NOUN', 'CCONJ', 'NOUN', 'PROPN', 'PUNCT', 'SCONJ', 'NOUN', 'VERB', 'PUNCT', 'VERB', 'PUNCT', 'CCONJ', 'VERB', 'PART', 'VERB', 'PRON', 'ADJ', 'CCONJ', 'ADJ', 'PROPN', 'PUNCT', 'DET', 'ADJ', 'NUM', 'NOUN', 'PRON', 'AUX', 'DET', 'NOUN', 'ADP', 'VERB', 'NOUN', 'PUNCT', 'PUNCT', 'NOUN', 'PRON', 'PUNCT', 'PUNCT', 'PUNCT', 'SPACE', 'NOUN', 'ADP', 'DET', 'PROPN', 'NOUN', 'NOUN', 'AUX', 'AUX', 'VERB', 'ADP', 'VERB', 'ADP', 'ADJ', 'SCONJ', 'DET', 'NOUN', 'PUNCT', 'SCONJ', 'PRON', 'AUX', 'VERB', 'ADP', 'NOUN', 'ADP', 'PROPN', 'NOUN', 'NOUN', 'X', 'PROPN', 'NOUN', 'AUX', 'VERB', 'ADP', 'DET', 'ADJ', 'NOUN', 'ADP', 'DET', 'NOUN', 'PUNCT', 'SCONJ', 'PROPN', 'VERB', 'PRON', 'ADP', 'ADJ', 'CCONJ', 'NOUN', 'PUNCT', 'NOUN', 'NOUN', 'ADP', 'PRON', 'NOUN', 'NOUN', 'NOUN', 'PROPN', 'PUNCT', 'ADJ', 'ADJ', 'NOUN', 'NOUN', 'PUNCT', 'VERB', 'PROPN', 'CCONJ', 'PROPN', 'PROPN', 'PUNCT', 'AUX', 'SCONJ', 'VERB', 'PROPN', 'NUM', 'PUNCT', 'SCONJ', 'VERB', 'ADJ', 'NOUN', 'PROPN', 'PUNCT', 'NOUN', 'NOUN', 'NOUN', 'ADJ', 'ADP', 'PROPN', 'PUNCT', 'CCONJ', 'PROPN', 'PUNCT', 'CCONJ', 'NOUN', 'NOUN', 'ADJ', 'ADP', 'PROPN', 'PROPN', 'PUNCT', 'SPACE']\n"
     ]
    }
   ],
   "source": [
    "# TOKENIZATION: breaking down text into individual words\n",
    "# Process the text using spaCy\n",
    "doc = nlp(maintext)\n",
    "\n",
    "# Extract words (tokens)\n",
    "words = [token.text for token in doc]\n",
    "\n",
    "# Extract lemmas\n",
    "lemmas = [token.lemma_ for token in doc]\n",
    "\n",
    "# Extract part-of-speech tags: https://stackoverflow.com/questions/40288323/what-do-spacys-part-of-speech-and-dependency-tags-mean\n",
    "tags = [token.pos_ for token in doc]\n",
    "\n",
    "# Print the results\n",
    "print(\"Words:\", words)\n",
    "print(\"Lemmas:\", lemmas)\n",
    "print(\"Tags:\", tags)"
   ]
  },
  {
   "cell_type": "code",
   "execution_count": 57,
   "metadata": {},
   "outputs": [
    {
     "name": "stdout",
     "output_type": "stream",
     "text": [
      "\n",
      " | \n",
      " | SPACE\n",
      "Lorem | Lorem | PROPN\n",
      "ipsum | ipsum | NOUN\n",
      "( | ( | PUNCT\n",
      "/ˌlɔː.rəm | /ˌlɔː.rəm | PUNCT\n",
      "ˈɪp.səm/ | ˈɪp.səm/ | DET\n",
      "LOR | LOR | PROPN\n",
      "- | - | PUNCT\n",
      "əm | əm | PROPN\n",
      "IP | IP | PROPN\n",
      "- | - | PUNCT\n",
      "səm | səm | NOUN\n",
      ") | ) | PUNCT\n",
      "is | be | AUX\n",
      "a | a | DET\n",
      "dummy | dummy | ADJ\n",
      "or | or | CCONJ\n",
      "placeholder | placeholder | NOUN\n",
      "text | text | NOUN\n",
      "commonly | commonly | ADV\n",
      "used | use | VERB\n",
      "in | in | ADP\n",
      "graphic | graphic | ADJ\n",
      "design | design | NOUN\n",
      ", | , | PUNCT\n",
      "publishing | publishing | NOUN\n",
      ", | , | PUNCT\n",
      "and | and | CCONJ\n",
      "web | web | NOUN\n",
      "development | development | NOUN\n",
      ". | . | PUNCT\n",
      "Its | its | PRON\n",
      "purpose | purpose | NOUN\n",
      "is | be | AUX\n",
      "to | to | PART\n",
      "permit | permit | VERB\n",
      "a | a | DET\n",
      "page | page | NOUN\n",
      "layout | layout | NOUN\n",
      "to | to | PART\n",
      "be | be | AUX\n",
      "designed | design | VERB\n",
      ", | , | PUNCT\n",
      "independently | independently | ADV\n",
      "of | of | ADP\n",
      "the | the | DET\n",
      "copy | copy | NOUN\n",
      "that | that | PRON\n",
      "will | will | AUX\n",
      "subsequently | subsequently | ADV\n",
      "populate | populate | VERB\n",
      "it | it | PRON\n",
      ", | , | PUNCT\n",
      "or | or | CCONJ\n",
      "to | to | PART\n",
      "demonstrate | demonstrate | VERB\n",
      "various | various | ADJ\n",
      "fonts | font | NOUN\n",
      "of | of | ADP\n",
      "a | a | DET\n",
      "typeface | typeface | NOUN\n",
      "without | without | ADP\n",
      "meaningful | meaningful | ADJ\n",
      "text | text | NOUN\n",
      "that | that | PRON\n",
      "could | could | AUX\n",
      "be | be | AUX\n",
      "distracting | distract | VERB\n",
      ". | . | PUNCT\n",
      "\n",
      "\n",
      "\n",
      "     | \n",
      "\n",
      "\n",
      "     | SPACE\n",
      "Lorem | Lorem | PROPN\n",
      "ipsum | ipsum | NOUN\n",
      "is | be | AUX\n",
      "typically | typically | ADV\n",
      "a | a | DET\n",
      "corrupted | corrupted | ADJ\n",
      "version | version | NOUN\n",
      "of | of | ADP\n",
      "De | De | PROPN\n",
      "finibus | finibus | PROPN\n",
      "bonorum | bonorum | PROPN\n",
      "et | et | PROPN\n",
      "malorum | malorum | PROPN\n",
      ", | , | PUNCT\n",
      "a | a | DET\n",
      "1st | 1st | ADJ\n",
      "- | - | PUNCT\n",
      "century | century | NOUN\n",
      "BC | BC | PROPN\n",
      "text | text | NOUN\n",
      "by | by | ADP\n",
      "the | the | DET\n",
      "Roman | roman | ADJ\n",
      "statesman | statesman | NOUN\n",
      "and | and | CCONJ\n",
      "philosopher | philosopher | NOUN\n",
      "Cicero | Cicero | PROPN\n",
      ", | , | PUNCT\n",
      "with | with | SCONJ\n",
      "words | word | NOUN\n",
      "altered | alter | VERB\n",
      ", | , | PUNCT\n",
      "added | add | VERB\n",
      ", | , | PUNCT\n",
      "and | and | CCONJ\n",
      "removed | remove | VERB\n",
      "to | to | PART\n",
      "make | make | VERB\n",
      "it | it | PRON\n",
      "nonsensical | nonsensical | ADJ\n",
      "and | and | CCONJ\n",
      "improper | improper | ADJ\n",
      "Latin | Latin | PROPN\n",
      ". | . | PUNCT\n",
      "The | the | DET\n",
      "first | first | ADJ\n",
      "two | two | NUM\n",
      "words | word | NOUN\n",
      "themselves | themselves | PRON\n",
      "are | be | AUX\n",
      "a | a | DET\n",
      "truncation | truncation | NOUN\n",
      "of | of | ADP\n",
      "dolorem | dolorem | VERB\n",
      "ipsum | ipsum | NOUN\n",
      "( | ( | PUNCT\n",
      "\" | \" | PUNCT\n",
      "pain | pain | NOUN\n",
      "itself | itself | PRON\n",
      "\" | \" | PUNCT\n",
      ") | ) | PUNCT\n",
      ". | . | PUNCT\n",
      "\n",
      "\n",
      "\n",
      "     | \n",
      "\n",
      "\n",
      "     | SPACE\n",
      "Versions | version | NOUN\n",
      "of | of | ADP\n",
      "the | the | DET\n",
      "Lorem | Lorem | PROPN\n",
      "ipsum | ipsum | NOUN\n",
      "text | text | NOUN\n",
      "have | have | AUX\n",
      "been | be | AUX\n",
      "used | use | VERB\n",
      "in | in | ADP\n",
      "typesetting | typeset | VERB\n",
      "at | at | ADP\n",
      "least | least | ADJ\n",
      "since | since | SCONJ\n",
      "the | the | DET\n",
      "1960s | 1960 | NOUN\n",
      ", | , | PUNCT\n",
      "when | when | SCONJ\n",
      "it | it | PRON\n",
      "was | be | AUX\n",
      "popularized | popularize | VERB\n",
      "by | by | ADP\n",
      "advertisements | advertisement | NOUN\n",
      "for | for | ADP\n",
      "Letraset | Letraset | PROPN\n",
      "transfer | transfer | NOUN\n",
      "sheets.[1 | sheets.[1 | NOUN\n",
      "] | ] | X\n",
      "Lorem | Lorem | PROPN\n",
      "ipsum | ipsum | NOUN\n",
      "was | be | AUX\n",
      "introduced | introduce | VERB\n",
      "to | to | ADP\n",
      "the | the | DET\n",
      "digital | digital | ADJ\n",
      "world | world | NOUN\n",
      "in | in | ADP\n",
      "the | the | DET\n",
      "mid-1980s | mid-1980 | NOUN\n",
      ", | , | PUNCT\n",
      "when | when | SCONJ\n",
      "Aldus | Aldus | PROPN\n",
      "employed | employ | VERB\n",
      "it | it | PRON\n",
      "in | in | ADP\n",
      "graphic | graphic | ADJ\n",
      "and | and | CCONJ\n",
      "word | word | NOUN\n",
      "- | - | PUNCT\n",
      "processing | processing | NOUN\n",
      "templates | template | NOUN\n",
      "for | for | ADP\n",
      "its | its | PRON\n",
      "desktop | desktop | NOUN\n",
      "publishing | publishing | NOUN\n",
      "program | program | NOUN\n",
      "PageMaker | PageMaker | PROPN\n",
      ". | . | PUNCT\n",
      "Other | other | ADJ\n",
      "popular | popular | ADJ\n",
      "word | word | NOUN\n",
      "processors | processor | NOUN\n",
      ", | , | PUNCT\n",
      "including | include | VERB\n",
      "Pages | Pages | PROPN\n",
      "and | and | CCONJ\n",
      "Microsoft | Microsoft | PROPN\n",
      "Word | Word | PROPN\n",
      ", | , | PUNCT\n",
      "have | have | AUX\n",
      "since | since | SCONJ\n",
      "adopted | adopt | VERB\n",
      "Lorem | Lorem | PROPN\n",
      "ipsum,[2 | ipsum,[2 | NUM\n",
      "] | ] | PUNCT\n",
      "as | as | SCONJ\n",
      "have | have | VERB\n",
      "many | many | ADJ\n",
      "LaTeX | latex | NOUN\n",
      "packages,[3][4][5 | packages,[3][4][5 | PROPN\n",
      "] | ] | PUNCT\n",
      "web | web | NOUN\n",
      "content | content | NOUN\n",
      "managers | manager | NOUN\n",
      "such | such | ADJ\n",
      "as | as | ADP\n",
      "Joomla | Joomla | PROPN\n",
      "! | ! | PUNCT\n",
      "and | and | CCONJ\n",
      "WordPress | WordPress | PROPN\n",
      ", | , | PUNCT\n",
      "and | and | CCONJ\n",
      "CSS | css | NOUN\n",
      "libraries | library | NOUN\n",
      "such | such | ADJ\n",
      "as | as | ADP\n",
      "Semantic | Semantic | PROPN\n",
      "UI | UI | PROPN\n",
      ". | . | PUNCT\n",
      "\n",
      " | \n",
      " | SPACE\n"
     ]
    }
   ],
   "source": [
    "for token in doc:\n",
    "    print(token.text + \" | \" + token.lemma_ + \" | \" + token.pos_)"
   ]
  },
  {
   "cell_type": "code",
   "execution_count": 64,
   "metadata": {},
   "outputs": [
    {
     "name": "stdout",
     "output_type": "stream",
     "text": [
      "\n",
      " Lorem ipsum(/ˌlɔː.rəm ˈɪp.səm/ LOR- əm IP- səm) is a dummy or placeholder text commonly used in graphic design, publishing, and web development. Its purpose is to permit a page layout to be designed, independently of the copy that will subsequently populate it, or to demonstrate various fonts of a typeface without meaningful text that could be distracting.\n",
      "\n",
      "\n",
      "     Lorem ipsum is typically a corrupted version of De finibus bonorum et malorum, a 1st- century BC text by the Roman statesman and philosopher Cicero, with words altered, added, and removed to make it nonsensical and improper Latin. The first two words themselves are a truncation of dolorem ipsum(\" pain itself\").\n",
      "\n",
      "\n",
      "     Versions of the Lorem ipsum text have been used in typesetting at least since the 1960s, when it was popularized by advertisements for Letraset transfer sheets.[1 ] Lorem ipsum was introduced to the digital world in the mid-1980s, when Aldus employed it in graphic and word- processing templates for its desktop publishing program PageMaker. Other popular word processors, including Pages and Microsoft Word, have since adopted Lorem ipsum,[2] as have many LaTeX packages,[3][4][5] web content managers such as Joomla! and WordPress, and CSS libraries such as Semantic UI.\n",
      "\n"
     ]
    }
   ],
   "source": [
    "# Convert tokens back into text\n",
    "temp = \"\"\n",
    "\n",
    "for token in doc:\n",
    "    if token.pos_ == \"SPACE\" or token.pos_ == \"PUNCT\":\n",
    "        temp += token.text\n",
    "\n",
    "    else:\n",
    "        temp += \" \" + token.text\n",
    "\n",
    "print(temp)"
   ]
  },
  {
   "cell_type": "markdown",
   "metadata": {},
   "source": [
    "Current Plan:\n",
    "- Take the tokenized version and convert into a dictionary mapping each word to its scrambled version\n",
    "- For each guess the user makes, unscramble the closest words semantically to it (and update the dictionary)\n",
    "- Reconstruct the scrambled text by iterating over the tokens and referencing the dictionary\n",
    "- This dictionary can then represent the user's \"state\" of unscrambling the text\n",
    "- We can also precompute the dictionary of all scrambled text so that all users get the same starting scrambled text\n",
    "\n",
    "Small Details:\n",
    "- We could use the set of all letters that appear in the article as the list of possible random letters for scrambling the text"
   ]
  }
 ],
 "metadata": {
  "kernelspec": {
   "display_name": ".venv",
   "language": "python",
   "name": "python3"
  },
  "language_info": {
   "codemirror_mode": {
    "name": "ipython",
    "version": 3
   },
   "file_extension": ".py",
   "mimetype": "text/x-python",
   "name": "python",
   "nbconvert_exporter": "python",
   "pygments_lexer": "ipython3",
   "version": "3.11.9"
  }
 },
 "nbformat": 4,
 "nbformat_minor": 2
}
